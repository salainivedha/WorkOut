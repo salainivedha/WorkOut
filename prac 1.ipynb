{
 "cells": [
  {
   "cell_type": "markdown",
   "id": "0148d9be",
   "metadata": {},
   "source": [
    "Question 2\n",
    "Level 1\n",
    "\n",
    "Question:\n",
    "Write a program which can compute the factorial of a given numbers.\n",
    "The results should be printed in a comma-separated sequence on a single line.\n",
    "Suppose the following input is supplied to the program:\n",
    "8\n",
    "Then, the output should be:\n",
    "40320\n",
    "\n",
    "Hints:\n",
    "In case of input data being supplied to the question, it should be assumed to be a console input."
   ]
  },
  {
   "cell_type": "code",
   "execution_count": null,
   "id": "f702c3d2",
   "metadata": {},
   "outputs": [],
   "source": [
    "fact=int(input(\"Enter the no:\" ))\n",
    "ans=1\n",
    "\n",
    "for i in range(fact,1,-1):\n",
    "    ans= ans*i\n",
    "    print(i,ans)\n",
    "    "
   ]
  },
  {
   "cell_type": "markdown",
   "id": "259aecf1",
   "metadata": {},
   "source": [
    "Write a program that accepts a comma separated sequence of words as input and prints the words in a comma-separated sequence after sorting them alphabetically.\n",
    "Suppose the following input is supplied to the program:\n",
    "without,hello,bag,world\n",
    "Then, the output should be:\n",
    "bag,hello,without,world"
   ]
  },
  {
   "cell_type": "code",
   "execution_count": 7,
   "id": "a3096c05",
   "metadata": {},
   "outputs": [
    {
     "name": "stdout",
     "output_type": "stream",
     "text": [
      "enter the names: print(type(wrd))\n",
      "<class 'str'>\n",
      "<class 'list'>\n"
     ]
    },
    {
     "data": {
      "text/plain": [
       "'print(type(wrd))'"
      ]
     },
     "execution_count": 7,
     "metadata": {},
     "output_type": "execute_result"
    }
   ],
   "source": [
    "wrd = input(\"enter the names: \")\n",
    "print(type(wrd))\n",
    "wrd1 = wrd.split(\",\")\n",
    "print(type(wrd1))\n",
    "wrd1.sort()\n",
    "\"| \".join(wrd1)"
   ]
  },
  {
   "cell_type": "code",
   "execution_count": 1,
   "id": "1050e754",
   "metadata": {},
   "outputs": [
    {
     "name": "stdout",
     "output_type": "stream",
     "text": [
      "Enter the no:8\n",
      "8 8\n",
      "7 56\n",
      "6 336\n",
      "5 1680\n",
      "4 6720\n",
      "3 20160\n",
      "2 40320\n"
     ]
    }
   ],
   "source": [
    "\n"
   ]
  },
  {
   "cell_type": "code",
   "execution_count": 1,
   "id": "a3f3f411",
   "metadata": {},
   "outputs": [
    {
     "name": "stdout",
     "output_type": "stream",
     "text": [
      "0\n"
     ]
    },
    {
     "data": {
      "text/plain": [
       "1"
      ]
     },
     "execution_count": 1,
     "metadata": {},
     "output_type": "execute_result"
    }
   ],
   "source": [
    "def fact(x):\n",
    "    if x == 0:\n",
    "        return 1\n",
    "    print(x)\n",
    "    return x * fact(x - 1)\n",
    "\n",
    "x=int(input())\n",
    "fact(x)"
   ]
  },
  {
   "cell_type": "markdown",
   "id": "95208c1c",
   "metadata": {},
   "source": [
    "Question:\n",
    "With a given integral number n, write a program to generate a dictionary that contains (i, i*i) such that is an integral number between 1 and n (both included). and then the program should print the dictionary.\n",
    "Suppose the following input is supplied to the program:\n",
    "8\n",
    "Then, the output should be:\n",
    "{1: 1, 2: 4, 3: 9, 4: 16, 5: 25, 6: 36, 7: 49, 8: 64}\n",
    "\n",
    "Hints:\n",
    "In case of input data being supplied to the question, it should be assumed to be a console input.\n",
    "Consider use dict()\n"
   ]
  },
  {
   "cell_type": "code",
   "execution_count": 30,
   "id": "22762bbb",
   "metadata": {},
   "outputs": [
    {
     "name": "stdout",
     "output_type": "stream",
     "text": [
      "Enter the no:10\n"
     ]
    },
    {
     "data": {
      "text/plain": [
       "{1: 1, 2: 4, 3: 9, 4: 16, 5: 25, 6: 36, 7: 49, 8: 64, 9: 81, 10: 100}"
      ]
     },
     "execution_count": 30,
     "metadata": {},
     "output_type": "execute_result"
    }
   ],
   "source": [
    "out={}\n",
    "fact=int(input(\"Enter the no:\" ))\n",
    "def my_func(x):\n",
    "    for i in range(1,x+1):\n",
    "        out[i]=i*i\n",
    "\n",
    "my_func(fact)\n",
    "out\n",
    "\n"
   ]
  },
  {
   "cell_type": "markdown",
   "id": "d7924ae1",
   "metadata": {},
   "source": [
    "Question 4\n",
    "Level 1\n",
    "\n",
    "Question:\n",
    "Write a program which accepts a sequence of comma-separated numbers from console and generate a list and a tuple which contains every number.\n",
    "Suppose the following input is supplied to the program:\n",
    "34,67,55,33,12,98\n",
    "Then, the output should be:\n",
    "['34', '67', '55', '33', '12', '98']\n",
    "('34', '67', '55', '33', '12', '98')\n",
    "\n",
    "Hints:\n",
    "In case of input data being supplied to the question, it should be assumed to be a console input.\n",
    "tuple() method can convert list to tuple"
   ]
  },
  {
   "cell_type": "code",
   "execution_count": 38,
   "id": "c086e39c",
   "metadata": {},
   "outputs": [
    {
     "name": "stdout",
     "output_type": "stream",
     "text": [
      "Enter the no:1,2,3,3,5\n"
     ]
    },
    {
     "data": {
      "text/plain": [
       "'1,2,3,3,5'"
      ]
     },
     "execution_count": 38,
     "metadata": {},
     "output_type": "execute_result"
    }
   ],
   "source": [
    "inp=input(\"Enter the no:\" )\n",
    "inp"
   ]
  },
  {
   "cell_type": "code",
   "execution_count": 44,
   "id": "e839810e",
   "metadata": {},
   "outputs": [
    {
     "name": "stdout",
     "output_type": "stream",
     "text": [
      "Enter the no:34,67,55,33,12,98\n",
      "['34', '67', '55', '33', '12', '98']\n",
      "('34', '67', '55', '33', '12', '98')\n"
     ]
    }
   ],
   "source": [
    "inp=input(\"Enter the no:\" )\n",
    "tup=inp.split(',')\n",
    "print(tup)\n",
    "print(tuple(tup))\n"
   ]
  },
  {
   "cell_type": "markdown",
   "id": "b4c6e99c",
   "metadata": {},
   "source": [
    "Question:\n",
    "Write a program that calculates and prints the value according to the given formula:\n",
    "Q = Square root of [(2 * C * D)/H]\n",
    "Following are the fixed values of C and H:\n",
    "C is 50. H is 30.\n",
    "D is the variable whose values should be input to your program in a comma-separated sequence.\n",
    "Example\n",
    "Let us assume the following comma separated input sequence is given to the program:\n",
    "100,150,180\n",
    "The output of the program should be:\n",
    "18,22,24\n",
    "\n",
    "Hints:\n",
    "If the output received is in decimal form, it should be rounded off to its nearest value (for example, if the output received is 26.0, it should be printed as 26)\n",
    "In case of input data being supplied to the question, it should be assumed to be a console input. "
   ]
  },
  {
   "cell_type": "code",
   "execution_count": 61,
   "id": "736d9ce7",
   "metadata": {
    "scrolled": true
   },
   "outputs": [
    {
     "name": "stdout",
     "output_type": "stream",
     "text": [
      "Enter the no:100,150,180\n",
      "['100', '150', '180']\n",
      "18,22,24\n"
     ]
    }
   ],
   "source": [
    "import math\n",
    "c=50\n",
    "h=30\n",
    "y=[]\n",
    "inp=input(\"Enter the no:\" )\n",
    "tup=inp.split(',')\n",
    "print(tup)\n",
    "for d in tup:\n",
    "    q=math.sqrt((2*c*int(d)/h))\n",
    "    y.append(str(round(q)))\n",
    "    \n",
    "print(','.join(y))"
   ]
  },
  {
   "cell_type": "code",
   "execution_count": 54,
   "id": "613e4050",
   "metadata": {},
   "outputs": [
    {
     "data": {
      "text/plain": [
       "100"
      ]
     },
     "execution_count": 54,
     "metadata": {},
     "output_type": "execute_result"
    }
   ],
   "source": [
    "[[0, 0, 0, 0, 0], \n",
    " [0, 1, 2, 3, 4], \n",
    " [0, 2, 4, 6, 8]] "
   ]
  },
  {
   "cell_type": "code",
   "execution_count": 65,
   "id": "b0fce86b",
   "metadata": {},
   "outputs": [
    {
     "data": {
      "text/plain": [
       "[[1, 2, 3], [7, 8, 9], [4, 5, 6]]"
      ]
     },
     "execution_count": 65,
     "metadata": {},
     "output_type": "execute_result"
    }
   ],
   "source": [
    "l1=[1,2,3]\n",
    "l2=[4,5,6]\n",
    "l3=[7,8,9]\n",
    "l4=[]\n",
    "l4.append(l1)\n",
    "l4.append(l3)\n",
    "l4.append(l2)\n",
    "l4"
   ]
  },
  {
   "cell_type": "code",
   "execution_count": 2,
   "id": "b6cada22",
   "metadata": {},
   "outputs": [
    {
     "name": "stdout",
     "output_type": "stream",
     "text": [
      "0\n",
      "0\n",
      "1\n",
      "2\n",
      "3\n",
      "4\n",
      "[0, 0, 0, 0, 0]\n",
      "1\n",
      "0\n",
      "1\n",
      "2\n",
      "3\n",
      "4\n",
      "[0, 1, 2, 3, 4]\n",
      "2\n",
      "0\n",
      "1\n",
      "2\n",
      "3\n",
      "4\n",
      "[0, 2, 4, 6, 8]\n",
      "[[0, 0, 0, 0, 0], [0, 1, 2, 3, 4], [0, 2, 4, 6, 8]]\n"
     ]
    }
   ],
   "source": [
    "l2=[]\n",
    "row=3\n",
    "col=5\n",
    "for i in range(row):\n",
    "    print(i)\n",
    "    l1=[]\n",
    "    for j in range(col):\n",
    "        print(j)\n",
    "        l1.append(i*j)\n",
    "    print(l1)\n",
    "    l2.append(l1)\n",
    "print(l2)    \n",
    "    "
   ]
  },
  {
   "cell_type": "markdown",
   "id": "c72fcc5f",
   "metadata": {},
   "source": [
    "Write a program that accepts sequence of lines as input and prints the lines after making all characters in the sentence capitalized.\n",
    "Suppose the following input is supplied to the program:\n",
    "Hello world\n",
    "Practice makes perfect\n",
    "Then, the output should be:\n",
    "HELLO WORLD\n",
    "PRACTICE MAKES PERFECT\n"
   ]
  },
  {
   "cell_type": "code",
   "execution_count": 2,
   "id": "459cd226",
   "metadata": {},
   "outputs": [
    {
     "name": "stdout",
     "output_type": "stream",
     "text": [
      "enter the lines: Hello world Practice makes perfect\n",
      "HELLO WORLD PRACTICE MAKES PERFECT\n"
     ]
    },
    {
     "ename": "KeyboardInterrupt",
     "evalue": "Interrupted by user",
     "output_type": "error",
     "traceback": [
      "\u001b[0;31m---------------------------------------------------------------------------\u001b[0m",
      "\u001b[0;31mKeyboardInterrupt\u001b[0m                         Traceback (most recent call last)",
      "\u001b[0;32m/tmp/ipykernel_7308/153476535.py\u001b[0m in \u001b[0;36m<module>\u001b[0;34m\u001b[0m\n\u001b[1;32m      1\u001b[0m \u001b[0;32mwhile\u001b[0m \u001b[0;32mTrue\u001b[0m\u001b[0;34m:\u001b[0m\u001b[0;34m\u001b[0m\u001b[0;34m\u001b[0m\u001b[0m\n\u001b[0;32m----> 2\u001b[0;31m     \u001b[0mseq\u001b[0m \u001b[0;34m=\u001b[0m \u001b[0minput\u001b[0m\u001b[0;34m(\u001b[0m\u001b[0;34m\"enter the lines: \"\u001b[0m\u001b[0;34m)\u001b[0m\u001b[0;34m\u001b[0m\u001b[0;34m\u001b[0m\u001b[0m\n\u001b[0m\u001b[1;32m      3\u001b[0m     \u001b[0mprint\u001b[0m\u001b[0;34m(\u001b[0m\u001b[0mseq\u001b[0m\u001b[0;34m.\u001b[0m\u001b[0mupper\u001b[0m\u001b[0;34m(\u001b[0m\u001b[0;34m)\u001b[0m\u001b[0;34m)\u001b[0m\u001b[0;34m\u001b[0m\u001b[0;34m\u001b[0m\u001b[0m\n\u001b[1;32m      4\u001b[0m \u001b[0;34m\u001b[0m\u001b[0m\n",
      "\u001b[0;32m/opt/apache/anaconda3/lib/python3.9/site-packages/ipykernel/kernelbase.py\u001b[0m in \u001b[0;36mraw_input\u001b[0;34m(self, prompt)\u001b[0m\n\u001b[1;32m   1175\u001b[0m                 \u001b[0;34m\"raw_input was called, but this frontend does not support input requests.\"\u001b[0m\u001b[0;34m\u001b[0m\u001b[0;34m\u001b[0m\u001b[0m\n\u001b[1;32m   1176\u001b[0m             )\n\u001b[0;32m-> 1177\u001b[0;31m         return self._input_request(\n\u001b[0m\u001b[1;32m   1178\u001b[0m             \u001b[0mstr\u001b[0m\u001b[0;34m(\u001b[0m\u001b[0mprompt\u001b[0m\u001b[0;34m)\u001b[0m\u001b[0;34m,\u001b[0m\u001b[0;34m\u001b[0m\u001b[0;34m\u001b[0m\u001b[0m\n\u001b[1;32m   1179\u001b[0m             \u001b[0mself\u001b[0m\u001b[0;34m.\u001b[0m\u001b[0m_parent_ident\u001b[0m\u001b[0;34m[\u001b[0m\u001b[0;34m\"shell\"\u001b[0m\u001b[0;34m]\u001b[0m\u001b[0;34m,\u001b[0m\u001b[0;34m\u001b[0m\u001b[0;34m\u001b[0m\u001b[0m\n",
      "\u001b[0;32m/opt/apache/anaconda3/lib/python3.9/site-packages/ipykernel/kernelbase.py\u001b[0m in \u001b[0;36m_input_request\u001b[0;34m(self, prompt, ident, parent, password)\u001b[0m\n\u001b[1;32m   1217\u001b[0m             \u001b[0;32mexcept\u001b[0m \u001b[0mKeyboardInterrupt\u001b[0m\u001b[0;34m:\u001b[0m\u001b[0;34m\u001b[0m\u001b[0;34m\u001b[0m\u001b[0m\n\u001b[1;32m   1218\u001b[0m                 \u001b[0;31m# re-raise KeyboardInterrupt, to truncate traceback\u001b[0m\u001b[0;34m\u001b[0m\u001b[0;34m\u001b[0m\u001b[0m\n\u001b[0;32m-> 1219\u001b[0;31m                 \u001b[0;32mraise\u001b[0m \u001b[0mKeyboardInterrupt\u001b[0m\u001b[0;34m(\u001b[0m\u001b[0;34m\"Interrupted by user\"\u001b[0m\u001b[0;34m)\u001b[0m \u001b[0;32mfrom\u001b[0m \u001b[0;32mNone\u001b[0m\u001b[0;34m\u001b[0m\u001b[0;34m\u001b[0m\u001b[0m\n\u001b[0m\u001b[1;32m   1220\u001b[0m             \u001b[0;32mexcept\u001b[0m \u001b[0mException\u001b[0m\u001b[0;34m:\u001b[0m\u001b[0;34m\u001b[0m\u001b[0;34m\u001b[0m\u001b[0m\n\u001b[1;32m   1221\u001b[0m                 \u001b[0mself\u001b[0m\u001b[0;34m.\u001b[0m\u001b[0mlog\u001b[0m\u001b[0;34m.\u001b[0m\u001b[0mwarning\u001b[0m\u001b[0;34m(\u001b[0m\u001b[0;34m\"Invalid Message:\"\u001b[0m\u001b[0;34m,\u001b[0m \u001b[0mexc_info\u001b[0m\u001b[0;34m=\u001b[0m\u001b[0;32mTrue\u001b[0m\u001b[0;34m)\u001b[0m\u001b[0;34m\u001b[0m\u001b[0;34m\u001b[0m\u001b[0m\n",
      "\u001b[0;31mKeyboardInterrupt\u001b[0m: Interrupted by user"
     ]
    }
   ],
   "source": [
    "\n",
    "while True:\n",
    "    seq = input(\"enter the lines: \")\n",
    "    print(seq.upper())\n",
    "    "
   ]
  },
  {
   "cell_type": "code",
   "execution_count": 5,
   "id": "d0d9edd4",
   "metadata": {},
   "outputs": [
    {
     "name": "stdout",
     "output_type": "stream",
     "text": [
      "hai hello how are you\n",
      "\n"
     ]
    }
   ],
   "source": [
    "lines = []\n",
    "while True:\n",
    "    s = input()\n",
    "    if s:\n",
    "        lines.append(s.upper())\n",
    "    else:\n",
    "        break;\n",
    "\n",
    "for sentence in lines:\n",
    "    print(sentence)"
   ]
  },
  {
   "cell_type": "markdown",
   "id": "cc389c62",
   "metadata": {},
   "source": [
    "Write a program that accepts a sequence of whitespace separated words as input and prints the words after removing all duplicate words and sorting them alphanumerically.\n",
    "Suppose the following input is supplied to the program:\n",
    "hello world and practice makes perfect and hello world again\n",
    "Then, the output should be:\n",
    "again and hello makes perfect practice world"
   ]
  },
  {
   "cell_type": "code",
   "execution_count": 19,
   "id": "195089fd",
   "metadata": {},
   "outputs": [
    {
     "name": "stdout",
     "output_type": "stream",
     "text": [
      "hello world and practice makes perfect and hello world again\n",
      "hello world and practice makes perfect and hello world again\n",
      "{'again', 'practice', 'makes', 'world', 'perfect', 'hello', 'and'}\n"
     ]
    },
    {
     "data": {
      "text/plain": [
       "'again and hello makes perfect practice world'"
      ]
     },
     "execution_count": 19,
     "metadata": {},
     "output_type": "execute_result"
    }
   ],
   "source": [
    "imp = input()\n",
    "print(imp)\n",
    "imp1 = imp.split()\n",
    "print(set(imp1))\n",
    "s1=list(set(imp1))\n",
    "s1.sort()\n",
    "\" \".join(s1)"
   ]
  },
  {
   "cell_type": "code",
   "execution_count": 5,
   "id": "2cb2c0ed",
   "metadata": {},
   "outputs": [
    {
     "name": "stdout",
     "output_type": "stream",
     "text": [
      "hello world and practice makes perfect and hello world again\n"
     ]
    },
    {
     "data": {
      "text/plain": [
       "'again and hello makes perfect practice world'"
      ]
     },
     "execution_count": 5,
     "metadata": {},
     "output_type": "execute_result"
    }
   ],
   "source": [
    "s = input()\n",
    "words = s.split(\" \")\n",
    "\" \".join(sorted(list(set(words)),reverse=False))"
   ]
  },
  {
   "cell_type": "code",
   "execution_count": 3,
   "id": "15e98540",
   "metadata": {},
   "outputs": [
    {
     "data": {
      "text/plain": [
       "[('Z', 'bh'), ('c', 'c', 'ddd')]"
      ]
     },
     "execution_count": 3,
     "metadata": {},
     "output_type": "execute_result"
    }
   ],
   "source": [
    "sorted([('Z','bh'),('c','c','ddd')],reverse=False)"
   ]
  },
  {
   "cell_type": "markdown",
   "id": "ea4aa396",
   "metadata": {},
   "source": [
    "Write a program which accepts a sequence of comma separated 4 digit binary numbers as its input and then check whether they are divisible by 5 or not. The numbers that are divisible by 5 are to be printed in a comma separated sequence.\n",
    "Example:\n",
    "0100,0011,1010,1001\n",
    "Then the output should be:\n",
    "1010\n",
    "Notes: Assume the data is input by console.\n",
    "\n",
    "Hints:\n",
    "In case of input data being supplied to the question, it should be assumed to be a console input."
   ]
  },
  {
   "cell_type": "code",
   "execution_count": 47,
   "id": "38f4de79",
   "metadata": {},
   "outputs": [
    {
     "name": "stdout",
     "output_type": "stream",
     "text": [
      "enter the no.s: 0100,0011,1010,1001 \n",
      "['0100', '0011', '1010', '1001 ']\n",
      "0100 4\n",
      "0011 3\n",
      "1010 10\n",
      "1010\n",
      "1001  9\n"
     ]
    }
   ],
   "source": [
    "div = input(\"enter the no.s: \")\n",
    "div1 = div.split(',')\n",
    "print(div1)\n",
    "for i in div1:\n",
    "    print(i,int(i,2))\n",
    "    if int(i,2)%5==0:\n",
    "        print(i)    "
   ]
  },
  {
   "cell_type": "code",
   "execution_count": 46,
   "id": "671089d6",
   "metadata": {},
   "outputs": [
    {
     "data": {
      "text/plain": [
       "10"
      ]
     },
     "execution_count": 46,
     "metadata": {},
     "output_type": "execute_result"
    }
   ],
   "source": [
    "int(\"1010\",2)"
   ]
  },
  {
   "cell_type": "markdown",
   "id": "7915b9be",
   "metadata": {},
   "source": [
    "Write a program, which will find all such numbers between 1000 and 3000 (both included) such that each digit of the number is an even number.\n",
    "The numbers obtained should be printed in a comma-separated sequence on a single line."
   ]
  },
  {
   "cell_type": "code",
   "execution_count": 5,
   "id": "2d07e2b5",
   "metadata": {},
   "outputs": [
    {
     "name": "stdout",
     "output_type": "stream",
     "text": [
      "2000 True\n",
      "2002 True\n",
      "2004 True\n",
      "2006 True\n",
      "2008 True\n",
      "2020 True\n",
      "2022 True\n",
      "2024 True\n",
      "2026 True\n",
      "2028 True\n",
      "2040 True\n",
      "2042 True\n",
      "2044 True\n",
      "2046 True\n",
      "2048 True\n",
      "2060 True\n",
      "2062 True\n",
      "2064 True\n",
      "2066 True\n",
      "2068 True\n",
      "2080 True\n",
      "2082 True\n",
      "2084 True\n",
      "2086 True\n",
      "2088 True\n",
      "2200 True\n",
      "2202 True\n",
      "2204 True\n",
      "2206 True\n",
      "2208 True\n",
      "2220 True\n",
      "2222 True\n",
      "2224 True\n",
      "2226 True\n",
      "2228 True\n",
      "2240 True\n",
      "2242 True\n",
      "2244 True\n",
      "2246 True\n",
      "2248 True\n",
      "2260 True\n",
      "2262 True\n",
      "2264 True\n",
      "2266 True\n",
      "2268 True\n",
      "2280 True\n",
      "2282 True\n",
      "2284 True\n",
      "2286 True\n",
      "2288 True\n",
      "2400 True\n",
      "2402 True\n",
      "2404 True\n",
      "2406 True\n",
      "2408 True\n",
      "2420 True\n",
      "2422 True\n",
      "2424 True\n",
      "2426 True\n",
      "2428 True\n",
      "2440 True\n",
      "2442 True\n",
      "2444 True\n",
      "2446 True\n",
      "2448 True\n",
      "2460 True\n",
      "2462 True\n",
      "2464 True\n",
      "2466 True\n",
      "2468 True\n",
      "2480 True\n",
      "2482 True\n",
      "2484 True\n",
      "2486 True\n",
      "2488 True\n",
      "2600 True\n",
      "2602 True\n",
      "2604 True\n",
      "2606 True\n",
      "2608 True\n",
      "2620 True\n",
      "2622 True\n",
      "2624 True\n",
      "2626 True\n",
      "2628 True\n",
      "2640 True\n",
      "2642 True\n",
      "2644 True\n",
      "2646 True\n",
      "2648 True\n",
      "2660 True\n",
      "2662 True\n",
      "2664 True\n",
      "2666 True\n",
      "2668 True\n",
      "2680 True\n",
      "2682 True\n",
      "2684 True\n",
      "2686 True\n",
      "2688 True\n",
      "2800 True\n",
      "2802 True\n",
      "2804 True\n",
      "2806 True\n",
      "2808 True\n",
      "2820 True\n",
      "2822 True\n",
      "2824 True\n",
      "2826 True\n",
      "2828 True\n",
      "2840 True\n",
      "2842 True\n",
      "2844 True\n",
      "2846 True\n",
      "2848 True\n",
      "2860 True\n",
      "2862 True\n",
      "2864 True\n",
      "2866 True\n",
      "2868 True\n",
      "2880 True\n",
      "2882 True\n",
      "2884 True\n",
      "2886 True\n",
      "2888 True\n"
     ]
    }
   ],
   "source": [
    "\n",
    "for i in range(1000,3001):\n",
    "    a=str(i)\n",
    "    if int(a[0])%2==0 and int(a[1])%2==0 and int(a[2])%2==0 and int(a[3])%2==0:\n",
    "        print(i,int(a[0])%2==0 and int(a[1])%2==0 and int(a[2])%2==0 and int(a[3])%2==0)\n"
   ]
  },
  {
   "cell_type": "code",
   "execution_count": 68,
   "id": "19f7b3db",
   "metadata": {},
   "outputs": [
    {
     "data": {
      "text/plain": [
       "False"
      ]
     },
     "execution_count": 68,
     "metadata": {},
     "output_type": "execute_result"
    }
   ],
   "source": [
    "6!=6"
   ]
  },
  {
   "cell_type": "markdown",
   "id": "81e375b6",
   "metadata": {},
   "source": [
    "Question:\n",
    "Write a program that accepts a sentence and calculate the number of letters and digits.\n",
    "Suppose the following input is supplied to the program:\n",
    "hello world! 123\n",
    "Then, the output should be:\n",
    "LETTERS 10\n",
    "DIGITS 3"
   ]
  },
  {
   "cell_type": "code",
   "execution_count": 6,
   "id": "0a51b442",
   "metadata": {},
   "outputs": [
    {
     "name": "stdout",
     "output_type": "stream",
     "text": [
      "Enter the sentence: hello world! 123\n",
      "LETTERS:  10\n",
      "DIGITS:  3\n"
     ]
    }
   ],
   "source": [
    "s = input(\"Enter the sentence: \")\n",
    "d= {\"DIGITS\":0 , \"LETTERS\":0}\n",
    "for i in s:\n",
    "    if i.isdigit():\n",
    "        d[\"DIGITS\"]+=1\n",
    "    elif i.isalpha():\n",
    "        d[\"LETTERS\"]+=1\n",
    "print(\"LETTERS: \",d[\"LETTERS\"] )\n",
    "print(\"DIGITS: \",d[\"DIGITS\"] )"
   ]
  },
  {
   "cell_type": "code",
   "execution_count": null,
   "id": "d00eac0f",
   "metadata": {},
   "outputs": [],
   "source": []
  },
  {
   "cell_type": "markdown",
   "id": "3e0b2b0f",
   "metadata": {},
   "source": [
    "Write a program that accepts a sentence and calculate the number of upper case letters and lower case letters.\n",
    "Suppose the following input is supplied to the program:\n",
    "Hello world!\n",
    "Then, the output should be:\n",
    "UPPER CASE 1\n",
    "LOWER CASE 9\n"
   ]
  },
  {
   "cell_type": "code",
   "execution_count": 7,
   "id": "ed2143c9",
   "metadata": {},
   "outputs": [
    {
     "name": "stdout",
     "output_type": "stream",
     "text": [
      "Enter the sentence: Hello world!\n",
      "UPPERCASE:  1\n",
      "LOWERCASE:  9\n"
     ]
    }
   ],
   "source": [
    "s = input(\"Enter the sentence: \")\n",
    "d= {\"UPPERCASE\":0 , \"LOWERCASE\":0}\n",
    "for i in s:\n",
    "    if i.isupper():\n",
    "        d[\"UPPERCASE\"]+=1\n",
    "    elif i.islower():\n",
    "        d[\"LOWERCASE\"]+=1\n",
    "print(\"UPPERCASE: \",d[\"UPPERCASE\"] )\n",
    "print(\"LOWERCASE: \",d[\"LOWERCASE\"] )"
   ]
  },
  {
   "cell_type": "markdown",
   "id": "b06bd784",
   "metadata": {},
   "source": [
    "Write a program that computes the value of a+aa+aaa+aaaa with a given digit as the value of a.\n",
    "Suppose the following input is supplied to the program:\n",
    "9\n",
    "Then, the output should be:\n",
    "11106\n"
   ]
  },
  {
   "cell_type": "code",
   "execution_count": 6,
   "id": "42e43a9c",
   "metadata": {},
   "outputs": [
    {
     "name": "stdout",
     "output_type": "stream",
     "text": [
      "Input is: 9\n",
      "9\n",
      "11106\n"
     ]
    }
   ],
   "source": [
    "a= input(\"Input is: \")\n",
    "print(a)\n",
    "n1= a\n",
    "n2= a+a\n",
    "n3= a+a+a\n",
    "n4= a+a+a+a\n",
    "ans=int(n1)+int(n2)+int(n3)+int(n4)\n",
    "print(ans)"
   ]
  },
  {
   "cell_type": "code",
   "execution_count": 23,
   "id": "06a71d53",
   "metadata": {},
   "outputs": [
    {
     "name": "stdout",
     "output_type": "stream",
     "text": [
      "9\n",
      "11106\n"
     ]
    }
   ],
   "source": [
    "a = input()\n",
    "n1 = int( \"%s\" % a )\n",
    "n2 = int( \"%s%s\" % (a,a) )\n",
    "n3 = int( \"%s%s%s\" % (a,a,a) )\n",
    "n4 = int( \"%s%s%s%s\" % (a,a,a,a) )\n",
    "print (n1+n2+n3+n4)\n"
   ]
  },
  {
   "cell_type": "markdown",
   "id": "65fa99ce",
   "metadata": {},
   "source": [
    "Use a list comprehension to square each odd number in a list. The list is input by a sequence of comma-separated numbers.\n",
    "Suppose the following input is supplied to the program:\n",
    "1,2,3,4,5,6,7,8,9\n",
    "Then, the output should be:\n",
    "1,3,5,7,9"
   ]
  },
  {
   "cell_type": "code",
   "execution_count": 20,
   "id": "539eb95d",
   "metadata": {},
   "outputs": [
    {
     "name": "stdout",
     "output_type": "stream",
     "text": [
      "Enter the no.s: 1,2,3,4,5,6,7,8,9 \n",
      "1\n",
      "3\n",
      "5\n",
      "7\n",
      "9 \n"
     ]
    }
   ],
   "source": [
    "a=input(\"Enter the no.s: \" )\n",
    "b= a.split(\",\")\n",
    "for i in b:\n",
    "    \n",
    "    if not int(i)%2==0:\n",
    "        print(i)\n",
    "        "
   ]
  },
  {
   "cell_type": "code",
   "execution_count": 22,
   "id": "714225cd",
   "metadata": {},
   "outputs": [
    {
     "name": "stdout",
     "output_type": "stream",
     "text": [
      "9999\n",
      "9999\n",
      "1\n",
      "1.000000\n"
     ]
    }
   ],
   "source": [
    "a='9'\n",
    "print(\"%s%s%s%s\" % (a,a,a,a))\n",
    "print(\"{0}{0}{0}{0}\".format(a))\n",
    "print(\"%d\" % (1))\n",
    "print(\"%f\" % (1.0))"
   ]
  },
  {
   "cell_type": "code",
   "execution_count": 6,
   "id": "a8d7c10b",
   "metadata": {},
   "outputs": [
    {
     "name": "stdout",
     "output_type": "stream",
     "text": [
      "1,2,3,4,5,6,7,8,9\n"
     ]
    },
    {
     "data": {
      "text/plain": [
       "['2', '4', '6', '8']"
      ]
     },
     "execution_count": 6,
     "metadata": {},
     "output_type": "execute_result"
    }
   ],
   "source": [
    "a=','.join(map(str,range(1,10)))\n",
    "print(a)\n",
    "[i for i in a.split(',') if int(i)%2==0]"
   ]
  },
  {
   "cell_type": "code",
   "execution_count": 8,
   "id": "aca5f673",
   "metadata": {},
   "outputs": [
    {
     "data": {
      "text/plain": [
       "'1,2,3,4,5,6,7,8,9'"
      ]
     },
     "execution_count": 8,
     "metadata": {},
     "output_type": "execute_result"
    }
   ],
   "source": [
    "','.join(map(str,range(1,10)))"
   ]
  },
  {
   "cell_type": "markdown",
   "id": "7f0af94b",
   "metadata": {},
   "source": [
    "Write a program that computes the net amount of a bank account based a transaction log from console input. The transaction log format is shown as following:\n",
    "D 100\n",
    "W 200\n",
    "\n",
    "D means deposit while W means withdrawal.\n",
    "Suppose the following input is supplied to the program:\n",
    "D 300\n",
    "D 300\n",
    "W 200\n",
    "D 100\n",
    "Then, the output should be:\n",
    "500\n"
   ]
  },
  {
   "cell_type": "code",
   "execution_count": 50,
   "id": "e9077c78",
   "metadata": {},
   "outputs": [
    {
     "data": {
      "text/plain": [
       "'100'"
      ]
     },
     "execution_count": 50,
     "metadata": {},
     "output_type": "execute_result"
    }
   ],
   "source": [
    "a=\"D 100\"\n",
    "a[2:]"
   ]
  },
  {
   "cell_type": "code",
   "execution_count": 57,
   "id": "01ede777",
   "metadata": {},
   "outputs": [
    {
     "name": "stdout",
     "output_type": "stream",
     "text": [
      "Enter the amount: D 500\n",
      "D 500 D 500\n",
      "Enter the amount: W 50\n",
      "W 50 W 50\n",
      "Enter the amount: W 20\n",
      "W 20 W 20\n",
      "Enter the amount: \n",
      "430\n"
     ]
    }
   ],
   "source": [
    "balance=0\n",
    "while True:\n",
    "    inp= input(\"Enter the amount: \")\n",
    "    if not inp:\n",
    "        break\n",
    "    iden = inp[0]\n",
    "    amount=inp[2:]\n",
    "    print(inp,iden,amount)\n",
    "\n",
    "    if iden == 'D':\n",
    "        balance= balance+int(amount)\n",
    "    elif iden == 'W':\n",
    "        balance= balance-int(amount)\n",
    "print(balance)"
   ]
  },
  {
   "cell_type": "code",
   "execution_count": 76,
   "id": "fce8db67",
   "metadata": {},
   "outputs": [
    {
     "name": "stdout",
     "output_type": "stream",
     "text": [
      "I am runing for : ABd1234@1\n",
      "checking for char: A False False\n",
      "checking for char: B False False\n",
      "checking for char: d True False\n",
      "checking for char: 1 False True\n",
      "checking for char: 2 False True\n",
      "checking for char: 3 False True\n",
      "checking for char: 4 False True\n",
      "checking for char: @ False False\n",
      "checking for char: 1 False True\n",
      "lowerCaseFlag True\n",
      "Number Flag True\n",
      "This is Strong Passowrd ABd1234@1\n",
      "I am runing for : a F1#\n",
      "checking for char: a True False\n",
      "checking for char:   False False\n",
      "checking for char: F False False\n",
      "checking for char: 1 False True\n",
      "checking for char: # False False\n",
      "lowerCaseFlag True\n",
      "Number Flag True\n",
      "This is Strong Passowrd a F1#\n",
      "I am runing for : 2w3E*\n",
      "checking for char: 2 False True\n",
      "checking for char: w True False\n",
      "checking for char: 3 False True\n",
      "checking for char: E False False\n",
      "checking for char: * False False\n",
      "lowerCaseFlag True\n",
      "Number Flag True\n",
      "This is Strong Passowrd 2w3E*\n",
      "I am runing for : 2We3345\n",
      "checking for char: 2 False True\n",
      "checking for char: W False False\n",
      "checking for char: e True False\n",
      "checking for char: 3 False True\n",
      "checking for char: 3 False True\n",
      "checking for char: 4 False True\n",
      "checking for char: 5 False True\n",
      "lowerCaseFlag True\n",
      "Number Flag True\n",
      "This is Strong Passowrd 2We3345\n",
      "I am runing for : mypassowrd\n",
      "checking for char: m True False\n",
      "checking for char: y True False\n",
      "checking for char: p True False\n",
      "checking for char: a True False\n",
      "checking for char: s True False\n",
      "checking for char: s True False\n",
      "checking for char: o True False\n",
      "checking for char: w True False\n",
      "checking for char: r True False\n",
      "checking for char: d True False\n",
      "lowerCaseFlag True\n",
      "Number Flag False\n"
     ]
    }
   ],
   "source": [
    "password='ABd1234@1,a F1#,2w3E*,2We3345,mypassowrd'\n",
    "lowercase=['a','b','c','d','e','f','g','h','i','j','k','l','m','n','o','p','q','r','s','t','u','x','u','v','w','y','z']\n",
    "number=['1','2','3','4','5','6','7','8','9','0']\n",
    "for pass_1 in password.split(','):\n",
    "    print(\"I am runing for :\",pass_1)\n",
    "    lowerFlag=False\n",
    "    numberFlag=False\n",
    "    for char in pass_1:\n",
    "        print('checking for char:',char,char in lowercase,char in number)\n",
    "        if char in lowercase:\n",
    "            lowerFlag=True\n",
    "        if char in number:\n",
    "            numberFlag=True\n",
    "\n",
    "    print('lowerCaseFlag',lowerFlag)\n",
    "    print('Number Flag',numberFlag)\n",
    "    if lowerFlag & numberFlag:\n",
    "        print('This is Strong Passowrd',pass_1)\n",
    "        \n",
    "    "
   ]
  },
  {
   "cell_type": "code",
   "execution_count": 8,
   "id": "5a1080dd",
   "metadata": {},
   "outputs": [
    {
     "name": "stdout",
     "output_type": "stream",
     "text": [
      " the letter is:  A False\n",
      " the letter is:  B False\n",
      " the letter is:  d True\n",
      " the letter is:  1 True\n",
      " the letter is:  2 True\n",
      " the letter is:  3 True\n",
      " the letter is:  4 True\n",
      " the letter is:  @ True\n",
      " the letter is:  1 True\n",
      "strong pass is: ABd1234@1\n",
      " the letter is:  a True\n",
      " the letter is:    True\n",
      " the letter is:  F True\n",
      " the letter is:  1 True\n",
      " the letter is:  # True\n",
      " the letter is:  2 False\n",
      " the letter is:  w True\n",
      " the letter is:  3 True\n",
      " the letter is:  E True\n",
      " the letter is:  * True\n",
      " the letter is:  2 False\n",
      " the letter is:  W False\n",
      " the letter is:  e True\n",
      " the letter is:  3 True\n",
      " the letter is:  3 True\n",
      " the letter is:  4 True\n",
      " the letter is:  5 True\n",
      " the letter is:  m True\n",
      " the letter is:  y True\n",
      " the letter is:  p True\n",
      " the letter is:  a True\n",
      " the letter is:  s True\n",
      " the letter is:  s True\n",
      " the letter is:  o True\n",
      " the letter is:  w True\n",
      " the letter is:  r True\n",
      " the letter is:  d True\n"
     ]
    }
   ],
   "source": [
    "password='ABd1234@1,a F1#,2w3E*,2We3345,mypassowrd'\n",
    "lowercase=['a','b','c','d','e','f','g','h','i','j','k','l','m','n','o','p','q','r','s','t','u','x','u','v','w','y','z']\n",
    "number=['1','2','3','4','5','6','7','8','9','0']\n",
    "uppercase=list(map(lambda x:x.upper(),lowercase))\n",
    "specialChar=[\"#\",\"@\",\"$\"]\n",
    "for i in password.split(','):\n",
    "#     print(\"the password is: \", i)\n",
    "    lowerCaseFlag=False\n",
    "    numberFlag=False\n",
    "    upperCaseFlag=False\n",
    "    specialcharflag=False         \n",
    "    for char in i:\n",
    "        if char in lowercase:\n",
    "            lowerCaseFlag=True\n",
    "        print(\" the letter is: \", char,lowerCaseFlag)        \n",
    "#         print(\"the lower case is: \", lowerCaseFlag)\n",
    "        if char in number:\n",
    "            numberFlag=True\n",
    "#         print(\" the number is:\", numberFlag)\n",
    "        if char in uppercase:\n",
    "            upperCaseFlag=True\n",
    "#             print(\" the uppercase is:\", upperCaseFlag)\n",
    "        if char in specialChar:\n",
    "             specialcharflag=True\n",
    "#              print(\" the special char is\",specialcharflag )\n",
    "    if lowerCaseFlag and numberFlag and upperCaseFlag and len(i)>=6 and len(i)<=12 and specialcharflag:\n",
    "        print(\"strong pass is:\",i)\n",
    "            \n",
    "    "
   ]
  },
  {
   "cell_type": "code",
   "execution_count": 94,
   "id": "1fc3c7d7",
   "metadata": {},
   "outputs": [
    {
     "data": {
      "text/plain": [
       "['A',\n",
       " 'B',\n",
       " 'C',\n",
       " 'D',\n",
       " 'E',\n",
       " 'F',\n",
       " 'G',\n",
       " 'H',\n",
       " 'I',\n",
       " 'J',\n",
       " 'K',\n",
       " 'L',\n",
       " 'M',\n",
       " 'N',\n",
       " 'O',\n",
       " 'P',\n",
       " 'Q',\n",
       " 'R',\n",
       " 'S',\n",
       " 'T',\n",
       " 'U',\n",
       " 'X',\n",
       " 'U',\n",
       " 'V',\n",
       " 'W',\n",
       " 'Y',\n",
       " 'Z']"
      ]
     },
     "execution_count": 94,
     "metadata": {},
     "output_type": "execute_result"
    }
   ],
   "source": [
    "lowercase\n",
    "uppercase=list(map(lambda x:x.upper(),lowercase))\n"
   ]
  },
  {
   "cell_type": "code",
   "execution_count": 111,
   "id": "067cc088",
   "metadata": {},
   "outputs": [
    {
     "name": "stdout",
     "output_type": "stream",
     "text": [
      "The strong password is: ABd1234@1\n"
     ]
    }
   ],
   "source": [
    "password='ABd1234@1,aF1#,2w3E*,2We3345,mypassowrd'\n",
    "lowercase=['a','b','c','d','e','f','g','h','i','j','k','l','m','n','o','p','q','r','s','t','u','x','u','v','w','y','z']\n",
    "number=['1','2','3','4','5','6','7','8','9','0']\n",
    "uppercase=list(map(lambda x:x.upper(),lowercase))\n",
    "specialChar=[\"#\",\"@\",\"$\"]\n",
    "for i in password.split(\",\"):\n",
    "#     print(i)\n",
    "    lowercaseflag= False\n",
    "    uppercaseflag=False\n",
    "    numberflag= False\n",
    "    speccharflag=False\n",
    "    for char in i:\n",
    "#         print(char)\n",
    "        if char in lowercase:\n",
    "            lowercaseflag= True\n",
    "        if char in uppercase:\n",
    "            uppercaseflag=True\n",
    "        if char in number:\n",
    "            numberflag= True\n",
    "        if char in specialChar:\n",
    "            speccharflag=True\n",
    "    if lowercaseflag and uppercaseflag and numberflag and speccharflag and len(i)>=6 and len(i)<=12:\n",
    "        print(\"The strong password is:\",i)\n",
    "            \n",
    "        \n"
   ]
  },
  {
   "cell_type": "code",
   "execution_count": 24,
   "id": "fcc98f0e",
   "metadata": {},
   "outputs": [
    {
     "name": "stdout",
     "output_type": "stream",
     "text": [
      "'ABd1234@1,a F1#,2w3E*,2We3345,mypassowrd'\n",
      "'ABd1234@1\n"
     ]
    }
   ],
   "source": [
    "import re\n",
    "value = []\n",
    "items=[x for x in input().split(',')]\n",
    "for p in items:\n",
    "    if len(p)<6 or len(p)>12:\n",
    "        continue\n",
    "    else:\n",
    "        pass\n",
    "    if not re.search(\"[a-z]\",p):\n",
    "        continue\n",
    "    elif not re.search(\"[0-9]\",p):\n",
    "        continue\n",
    "    elif not re.search(\"[A-Z]\",p):\n",
    "        continue\n",
    "    elif not re.search(\"[$#@]\",p):\n",
    "        continue\n",
    "    elif re.search(\"\\s\",p):\n",
    "        continue\n",
    "    else:\n",
    "        pass\n",
    "    value.append(p)\n",
    "print (\",\".join(value))"
   ]
  },
  {
   "cell_type": "markdown",
   "id": "746629ab",
   "metadata": {},
   "source": [
    "###### You are required to write a program to sort the (name, age, height) tuples by ascending order where name is string, age and height are numbers. The tuples are input by console. The sort criteria is:\n",
    "###### 1: Sort based on name;\n",
    "###### 2: Then sort based on age;\n",
    "###### 3: Then sort by score.\n",
    "###### The priority is that name > age > score.\n",
    "###### If the following tuples are given as input to the program:\n",
    "###### Tom,19,80\n",
    "###### John,20,90\n",
    "###### Jony,17,91\n",
    "###### Jony,17,93\n",
    "###### Json,21,85\n",
    "###### Then, the output of the program should be:\n",
    "###### [('John', '20', '90'), ('Jony', '17', '91'), ('Jony', '17', '93'), ('Json', '21', '85'), ('Tom', '19', '80')]\n",
    "###### \n",
    "###### Hints:\n",
    "###### In case of input data being supplied to the question, it should be assumed to be a console input.\n",
    "###### We use itemgetter to enable multiple sort keys."
   ]
  },
  {
   "cell_type": "code",
   "execution_count": null,
   "id": "a6df9318",
   "metadata": {},
   "outputs": [],
   "source": []
  },
  {
   "cell_type": "code",
   "execution_count": 27,
   "id": "a8db14dc",
   "metadata": {},
   "outputs": [
    {
     "name": "stdout",
     "output_type": "stream",
     "text": [
      "ENTER: Tom,19,80\n",
      "ENTER: John,20,90\n",
      "ENTER: Jony,17,91\n",
      "ENTER: Json,21,85¶\n",
      "ENTER: \n"
     ]
    },
    {
     "data": {
      "text/plain": [
       "[('John', '20', '90'),\n",
       " ('Jony', '17', '91'),\n",
       " ('Json', '21', '85¶'),\n",
       " ('Tom', '19', '80')]"
      ]
     },
     "execution_count": 27,
     "metadata": {},
     "output_type": "execute_result"
    }
   ],
   "source": [
    "\n",
    "l1=[]\n",
    "while True:\n",
    "    a=input(\"ENTER: \")\n",
    "    if not a:\n",
    "        break\n",
    "    a=a.split(',')\n",
    "    l1.append((a[0],a[1],a[2]))\n",
    "sorted(l1,key=lambda x:x[0],reverse=False)\n"
   ]
  },
  {
   "cell_type": "code",
   "execution_count": 29,
   "id": "a933aa85",
   "metadata": {},
   "outputs": [
    {
     "data": {
      "text/plain": [
       "[('Tom', '19', '80'), ('fom', '19', '80')]"
      ]
     },
     "execution_count": 29,
     "metadata": {},
     "output_type": "execute_result"
    }
   ],
   "source": [
    "sorted(l1,key=lambda x:x[0],reverse=False)\n"
   ]
  },
  {
   "cell_type": "code",
   "execution_count": null,
   "id": "24d359dc",
   "metadata": {},
   "outputs": [],
   "source": [
    "\n",
    "\n"
   ]
  },
  {
   "cell_type": "markdown",
   "id": "f93e22c3",
   "metadata": {},
   "source": [
    "Hints: In case of input data being supplied to the question, it should be assumed to be a console input."
   ]
  },
  {
   "cell_type": "code",
   "execution_count": 9,
   "id": "4eee1f73",
   "metadata": {},
   "outputs": [
    {
     "name": "stdout",
     "output_type": "stream",
     "text": [
      "Enter the sentence: hello hello hello\n",
      "{'hello': 3}\n"
     ]
    }
   ],
   "source": [
    "s= input(\"Enter the sentence: \")\n",
    "d=s.split()\n",
    "wordcount={}\n",
    "for i in d:\n",
    "    if i in wordcount:\n",
    "        wordcount[i]+=1\n",
    "    else:\n",
    "        wordcount[i]=1\n",
    "print(wordcount)\n",
    "        \n",
    "        \n",
    "        "
   ]
  },
  {
   "cell_type": "code",
   "execution_count": 10,
   "id": "474abec9",
   "metadata": {},
   "outputs": [
    {
     "name": "stdout",
     "output_type": "stream",
     "text": [
      "Enter the sentence: In case of input data being supplied to the question, it should be assumed to be a console input.\n",
      "{'I': 1, 'n': 6, 'c': 2, 'a': 5, 's': 7, 'e': 9, 'o': 7, 'f': 1, 'i': 6, 'p': 4, 'u': 6, 't': 8, 'd': 4, 'b': 3, 'g': 1, 'l': 3, 'h': 2, 'q': 1, ',': 1, 'm': 1, '.': 1}\n"
     ]
    }
   ],
   "source": [
    "s= input(\"Enter the sentence: \")\n",
    "d=s.split()\n",
    "wordcount={}\n",
    "for i in d:\n",
    "    for char in i:\n",
    "        if char in wordcount:\n",
    "            wordcount[char]+=1\n",
    "        else:\n",
    "            wordcount[char]=1\n",
    "print(wordcount)\n"
   ]
  },
  {
   "cell_type": "markdown",
   "id": "988bfa60",
   "metadata": {},
   "source": [
    "Write a program to compute the frequency of the words from the input. The output should output after sorting the key alphanumerically. \n",
    "Suppose the following input is supplied to the program:\n",
    "New to Python or choosing between Python 2 and Python 3? Read Python 2 or Python 3.\n",
    "Then, the output should be:\n",
    "2:2\n",
    "3.:1\n",
    "3?:1\n",
    "New:1\n",
    "Python:5\n",
    "Read:1\n",
    "and:1\n",
    "between:1\n",
    "choosing:1\n",
    "or:2\n",
    "to:1\n"
   ]
  },
  {
   "cell_type": "code",
   "execution_count": 19,
   "id": "ecdc7187",
   "metadata": {},
   "outputs": [
    {
     "name": "stdout",
     "output_type": "stream",
     "text": [
      "Enter the sentence: New to Python or choosing between Python 2 and Python 3? Read Python 2 or Python 3.\n",
      "{'New': 1, 'to': 1, 'Python': 5, 'or': 2, 'choosing': 1, 'between': 1, '2': 2, 'and': 1, '3?': 1, 'Read': 1, '3.': 1}\n"
     ]
    }
   ],
   "source": [
    "s= input(\"Enter the sentence: \")\n",
    "d=s.split()\n",
    "wordcount={}\n",
    "for i in d:\n",
    "    if i in wordcount:\n",
    "        wordcount[i]=wordcount[i]+1\n",
    "    else:\n",
    "        wordcount[i]=1\n",
    "print(wordcount)"
   ]
  },
  {
   "cell_type": "code",
   "execution_count": 21,
   "id": "8aa3a74b",
   "metadata": {},
   "outputs": [
    {
     "data": {
      "text/plain": [
       "{'2': 2,\n",
       " '3.': 1,\n",
       " '3?': 1,\n",
       " 'New': 1,\n",
       " 'Python': 5,\n",
       " 'Read': 1,\n",
       " 'and': 1,\n",
       " 'between': 1,\n",
       " 'choosing': 1,\n",
       " 'or': 2,\n",
       " 'to': 1}"
      ]
     },
     "execution_count": 21,
     "metadata": {},
     "output_type": "execute_result"
    }
   ],
   "source": [
    "\n",
    "dict(sorted(wordcount.items()))"
   ]
  },
  {
   "cell_type": "code",
   "execution_count": 67,
   "id": "f91b9bb3",
   "metadata": {},
   "outputs": [
    {
     "name": "stdout",
     "output_type": "stream",
     "text": [
      "New to Python or choosing between Python 2 and Python 3? Read Python 2 or Python 3.\n",
      "2:2.000000\n",
      "3.:1.000000\n",
      "3?:1.000000\n",
      "New:1.000000\n",
      "Python:5.000000\n",
      "Read:1.000000\n",
      "and:1.000000\n",
      "between:1.000000\n",
      "choosing:1.000000\n",
      "or:2.000000\n",
      "to:1.000000\n"
     ]
    }
   ],
   "source": [
    "freq = {}   # frequency of words in text\n",
    "line = input()\n",
    "for word in line.split():\n",
    "    freq[word] = freq.get(word,0)+1\n",
    "\n",
    "words = list(freq.keys())\n",
    "words.sort()\n",
    "for w in words:\n",
    "    print (\"%s:%f\" % (w,freq[w]))\n"
   ]
  },
  {
   "cell_type": "markdown",
   "id": "883751b7",
   "metadata": {},
   "source": [
    " Write a method which can calculate square value of number"
   ]
  },
  {
   "cell_type": "code",
   "execution_count": 30,
   "id": "e937aa02",
   "metadata": {},
   "outputs": [
    {
     "data": {
      "text/plain": [
       "64"
      ]
     },
     "execution_count": 30,
     "metadata": {},
     "output_type": "execute_result"
    }
   ],
   "source": [
    "def square(num):\n",
    "    return num ** 2\n",
    "\n",
    "square(2)\n",
    "square(3)\n",
    "square(4)\n"
   ]
  },
  {
   "cell_type": "markdown",
   "id": "cfc10217",
   "metadata": {},
   "source": [
    "uestion:\n",
    "    Python has many built-in functions, and if you do not know how to use it, you can read document online or find some books. But Python has a built-in document function for every built-in functions.\n",
    "    Please write a program to print some Python built-in functions documents, such as abs(), int(), raw_input()\n",
    "    And add document for your own function"
   ]
  },
  {
   "cell_type": "code",
   "execution_count": null,
   "id": "bc719699",
   "metadata": {},
   "outputs": [],
   "source": []
  },
  {
   "cell_type": "markdown",
   "id": "9be9fac2",
   "metadata": {},
   "source": [
    "Define a function which can compute the sum of two numbers."
   ]
  },
  {
   "cell_type": "code",
   "execution_count": 27,
   "id": "3dedf4c3",
   "metadata": {},
   "outputs": [
    {
     "data": {
      "text/plain": [
       "10"
      ]
     },
     "execution_count": 27,
     "metadata": {},
     "output_type": "execute_result"
    }
   ],
   "source": [
    "def func(num1,num2):\n",
    "    return num1+num2\n",
    "\n",
    "func(5,5)"
   ]
  },
  {
   "cell_type": "code",
   "execution_count": 13,
   "id": "3a9b6002",
   "metadata": {},
   "outputs": [
    {
     "data": {
      "text/plain": [
       "{'FirstName': 'Nivedha', 'LastName': 'Arun'}"
      ]
     },
     "execution_count": 13,
     "metadata": {},
     "output_type": "execute_result"
    }
   ],
   "source": [
    "address={}\n",
    "address['FirstName']='Nivedha'\n",
    "address['LastName']='Arun'\n",
    "address"
   ]
  },
  {
   "cell_type": "code",
   "execution_count": 41,
   "id": "9a4ed720",
   "metadata": {},
   "outputs": [
    {
     "data": {
      "text/plain": [
       "{'FirstName': 'Nivedha', 'LastName': 'Arun'}"
      ]
     },
     "execution_count": 41,
     "metadata": {},
     "output_type": "execute_result"
    }
   ],
   "source": [
    "address"
   ]
  },
  {
   "cell_type": "code",
   "execution_count": 37,
   "id": "33ee5ded",
   "metadata": {},
   "outputs": [
    {
     "name": "stdout",
     "output_type": "stream",
     "text": [
      "['__class__', '__class_getitem__', '__contains__', '__delattr__', '__delitem__', '__dir__', '__doc__', '__eq__', '__format__', '__ge__', '__getattribute__', '__getitem__', '__gt__', '__hash__', '__init__', '__init_subclass__', '__ior__', '__iter__', '__le__', '__len__', '__lt__', '__ne__', '__new__', '__or__', '__reduce__', '__reduce_ex__', '__repr__', '__reversed__', '__ror__', '__setattr__', '__setitem__', '__sizeof__', '__str__', '__subclasshook__', 'clear', 'copy', 'fromkeys', 'get', 'items', 'keys', 'pop', 'popitem', 'setdefault', 'update', 'values']\n"
     ]
    }
   ],
   "source": [
    "print(dir(address))"
   ]
  },
  {
   "cell_type": "code",
   "execution_count": 15,
   "id": "c7348c8e",
   "metadata": {},
   "outputs": [
    {
     "data": {
      "text/plain": [
       "'Nivedha'"
      ]
     },
     "execution_count": 15,
     "metadata": {},
     "output_type": "execute_result"
    }
   ],
   "source": [
    "address.get('FirstName')"
   ]
  },
  {
   "cell_type": "code",
   "execution_count": 58,
   "id": "fd8981dc",
   "metadata": {},
   "outputs": [
    {
     "data": {
      "text/plain": [
       "7"
      ]
     },
     "execution_count": 58,
     "metadata": {},
     "output_type": "execute_result"
    }
   ],
   "source": [
    "wordcount['New1']=wordcount.get('New1',0)+1\n",
    "wordcount['New1']"
   ]
  },
  {
   "cell_type": "code",
   "execution_count": 75,
   "id": "f03e774a",
   "metadata": {},
   "outputs": [
    {
     "name": "stdout",
     "output_type": "stream",
     "text": [
      "Address = {'FirstName': 'Nivedha', 'LastName': 'ARUN', 'Age': 30}\n",
      "NewAddress = {'LastName': 'ARUN', 'Age': 30}\n",
      "Modified Address {'FirstName': 'Nivedha', 'LastName': 'ARUN', 'Age': 30}\n"
     ]
    }
   ],
   "source": [
    "newAddress={'LastName':'ARUN','Age':30}\n",
    "print('Address =',address)\n",
    "print('NewAddress =',newAddress)\n",
    "address.update(newAddress)\n",
    "print('Modified Address',address)"
   ]
  },
  {
   "cell_type": "code",
   "execution_count": 86,
   "id": "1947da79",
   "metadata": {},
   "outputs": [
    {
     "data": {
      "text/plain": [
       "['Age', 'FirstName', 'LastName']"
      ]
     },
     "execution_count": 86,
     "metadata": {},
     "output_type": "execute_result"
    }
   ],
   "source": [
    "keys=list(address.keys())\n",
    "keys.sort()\n",
    "keys"
   ]
  },
  {
   "cell_type": "code",
   "execution_count": null,
   "id": "abaa677e",
   "metadata": {},
   "outputs": [],
   "source": []
  },
  {
   "cell_type": "code",
   "execution_count": null,
   "id": "dd691dc7",
   "metadata": {},
   "outputs": [],
   "source": []
  },
  {
   "cell_type": "code",
   "execution_count": null,
   "id": "0422dec9",
   "metadata": {},
   "outputs": [],
   "source": [
    "while True:\n",
    "    inp= input(\"Enter the amount: \")\n",
    "    if not inp:\n",
    "        break\n",
    "    iden = inp[0]\n",
    "    amount=inp[2:]\n",
    "    print(inp,iden,amount)\n",
    "\n",
    "    if iden == 'D':\n",
    "        balance= balance+int(amount)\n",
    "    elif iden == 'W':\n",
    "        balance= balance-int(amount)\n",
    "print(balance)"
   ]
  },
  {
   "cell_type": "markdown",
   "id": "fe6aefb3",
   "metadata": {},
   "source": [
    "# Bank Transactions"
   ]
  },
  {
   "cell_type": "markdown",
   "id": "4802921c",
   "metadata": {},
   "source": [
    "## Read the Transaction data one by one from console Input which contains below information.\n",
    "#### From Account|To Account|Amount\n",
    "#### -|Arun|500\n",
    "#### -|Arun|100\n",
    "#### -|Nivedha|500\n",
    "#### Arun|Nivedha|100\n",
    "#### Arun|Nivedha|300\n",
    "#### Nivedha|Arun|10000\n",
    "#### Print Error if no sufficient funds to Transfer.. Every Transfer show the balance of both users"
   ]
  },
  {
   "cell_type": "code",
   "execution_count": null,
   "id": "40cf2e45",
   "metadata": {},
   "outputs": [
    {
     "name": "stdout",
     "output_type": "stream",
     "text": [
      "Enter:-|Arun|500\n",
      "['-', 'Arun', '500']\n",
      "{'Arun': 500}\n"
     ]
    }
   ],
   "source": [
    "amount={}\n",
    "while True:\n",
    "    a=input(\"Enter:\")\n",
    "    if not a:\n",
    "        break\n",
    "    rec= a.split(\"|\")\n",
    "    if rec[0] == \"-\":\n",
    "        print(rec)\n",
    "        amount[rec[1]]=amount.get(rec[1],0)+int(rec[2])\n",
    "        \n",
    "    else:\n",
    "        if int(rec[2])<= amount[rec[0]]:\n",
    "            amount[rec[0]]=amount.get(rec[0],0)-int(rec[2])\n",
    "            amount[rec[1]]=amount.get(rec[1],0)+int(rec[2])\n",
    "        else:\n",
    "            print(\"insufficient fund\")\n",
    "       \n",
    "    print(amount)"
   ]
  },
  {
   "cell_type": "code",
   "execution_count": 93,
   "id": "a004f937",
   "metadata": {},
   "outputs": [
    {
     "name": "stdout",
     "output_type": "stream",
     "text": [
      "amount[Arun]=amount.get(Arun,0)+rec[2]\n"
     ]
    }
   ],
   "source": [
    "print(\"amount[{0}]=amount.get({0},0)+rec[2]\".format(rec[1]))cc"
   ]
  },
  {
   "cell_type": "markdown",
   "id": "b5998374",
   "metadata": {},
   "source": [
    "Define a function that can convert a integer into a string and print it in console."
   ]
  },
  {
   "cell_type": "code",
   "execution_count": 2,
   "id": "ff6444f9",
   "metadata": {},
   "outputs": [
    {
     "data": {
      "text/plain": [
       "'456'"
      ]
     },
     "execution_count": 2,
     "metadata": {},
     "output_type": "execute_result"
    }
   ],
   "source": [
    "def string(inp):\n",
    "    return str(inp)\n",
    "\n",
    "string(456)\n",
    "    "
   ]
  },
  {
   "cell_type": "markdown",
   "id": "0426da10",
   "metadata": {},
   "source": [
    "Define a function that can receive two integral numbers in string form and compute their sum and then print it in console."
   ]
  },
  {
   "cell_type": "code",
   "execution_count": 5,
   "id": "b1f3be32",
   "metadata": {},
   "outputs": [
    {
     "data": {
      "text/plain": [
       "55"
      ]
     },
     "execution_count": 5,
     "metadata": {},
     "output_type": "execute_result"
    }
   ],
   "source": [
    "def func(n1,n2):\n",
    "    return int(n1)+int(n2)\n",
    "\n",
    "func('23','32')"
   ]
  },
  {
   "cell_type": "markdown",
   "id": "387f528b",
   "metadata": {},
   "source": [
    "Question:\n",
    "Define a function that can accept two strings as input and concatenate them and then print it in console.\n",
    "\n",
    "Hints:\n",
    "\n",
    "Use + to concatenate the strings\n"
   ]
  },
  {
   "cell_type": "code",
   "execution_count": 6,
   "id": "27ffb4b9",
   "metadata": {},
   "outputs": [
    {
     "data": {
      "text/plain": [
       "'haihello'"
      ]
     },
     "execution_count": 6,
     "metadata": {},
     "output_type": "execute_result"
    }
   ],
   "source": [
    "def twostr(s1,s2):\n",
    "    return s1+s2\n",
    "\n",
    "twostr('hai','hello')"
   ]
  },
  {
   "cell_type": "markdown",
   "id": "374200df",
   "metadata": {},
   "source": [
    "Question:\n",
    "Define a function that can accept two strings as input and print the string with maximum length in console. If two strings have the same length, then the function should print al l strings line by line.\n",
    "\n",
    "Hints:\n",
    "\n",
    "Use len() function to get the length of a string"
   ]
  },
  {
   "cell_type": "code",
   "execution_count": 9,
   "id": "f250815d",
   "metadata": {},
   "outputs": [
    {
     "data": {
      "text/plain": [
       "('ARUN', 'Arun')"
      ]
     },
     "execution_count": 9,
     "metadata": {},
     "output_type": "execute_result"
    }
   ],
   "source": [
    "def twostring(d1,d2):\n",
    "\n",
    "    if len(d1)>len(d2):\n",
    "        return(d1)\n",
    "    elif len(d1)<len(d2):\n",
    "        return(d2)\n",
    "    else:\n",
    "        return(d1,d2)\n",
    "    \n",
    "twostring(\"ARUN\",\"Arun\")"
   ]
  },
  {
   "cell_type": "markdown",
   "id": "9d21d07b",
   "metadata": {},
   "source": [
    "Question:\n",
    "Define a function that can accept an integer number as input and print the \"It is an even number\" if the number is even, otherwise print \"It is an odd number\".\n",
    "\n",
    "Hints:\n",
    "\n",
    "Use % operator to check if a number is even or odd."
   ]
  },
  {
   "cell_type": "code",
   "execution_count": 11,
   "id": "d218b8b9",
   "metadata": {},
   "outputs": [
    {
     "name": "stdout",
     "output_type": "stream",
     "text": [
      "It is an odd number\n"
     ]
    }
   ],
   "source": [
    "def even(n1):\n",
    "    \n",
    "    if n1%2==0:\n",
    "        print(\"It is an even number\")\n",
    "    else:\n",
    "        print(\"It is an odd number\")\n",
    "        \n",
    "even(3)        "
   ]
  },
  {
   "cell_type": "markdown",
   "id": "1097a0e0",
   "metadata": {},
   "source": [
    "Question:\n",
    "Define a function which can print a dictionary where the keys are numbers between 1 and 3 (both included) and the values are square of keys.\n",
    "\n",
    "Hints:\n",
    "\n",
    "Use dict[key]=value pattern to put entry into a dictionary.\n",
    "Use ** operator to get power of a number."
   ]
  },
  {
   "cell_type": "code",
   "execution_count": 16,
   "id": "2bc2ab1d",
   "metadata": {},
   "outputs": [
    {
     "name": "stdout",
     "output_type": "stream",
     "text": [
      "{1: 1, 2: 4, 3: 27}\n"
     ]
    }
   ],
   "source": [
    "diction={}\n",
    "\n",
    "def inp():\n",
    "    for i in range(1,4):\n",
    "        diction[i]=i**i\n",
    "    \n",
    "inp()\n",
    "print(diction)\n",
    "        "
   ]
  },
  {
   "cell_type": "markdown",
   "id": "35589949",
   "metadata": {},
   "source": [
    "Define a function which can print a dictionary where the keys are numbers between 1 and 20 (both included) and the values are square of keys.\n",
    "\n",
    "Hints:\n",
    "\n",
    "Use dict[key]=value pattern to put entry into a dictionary.\n",
    "Use ** operator to get power of a number.\n",
    "Use range() for loops."
   ]
  },
  {
   "cell_type": "code",
   "execution_count": 17,
   "id": "b0499add",
   "metadata": {},
   "outputs": [
    {
     "name": "stdout",
     "output_type": "stream",
     "text": [
      "{1: 1, 2: 4, 3: 27, 4: 256, 5: 3125, 6: 46656, 7: 823543, 8: 16777216, 9: 387420489, 10: 10000000000, 11: 285311670611, 12: 8916100448256, 13: 302875106592253, 14: 11112006825558016, 15: 437893890380859375, 16: 18446744073709551616, 17: 827240261886336764177, 18: 39346408075296537575424, 19: 1978419655660313589123979, 20: 104857600000000000000000000}\n"
     ]
    }
   ],
   "source": [
    "diction={}\n",
    "\n",
    "def inp():\n",
    "    for i in range(1,21):\n",
    "        diction[i]=i**i\n",
    "    \n",
    "inp()\n",
    "print(diction)"
   ]
  },
  {
   "cell_type": "markdown",
   "id": "0bd05fc3",
   "metadata": {},
   "source": [
    "Define a function which can generate a dictionary where the keys are numbers between 1 and 20 (both included) and the values are square of keys. The function should just print the values only.\n",
    "\n",
    "Hints:\n",
    "\n",
    "Use dict[key]=value pattern to put entry into a dictionary.\n",
    "Use ** operator to get power of a number.\n",
    "Use range() for loops.\n",
    "Use keys() to iterate keys in the dictionary. Also we can use item() to get key/value pairs."
   ]
  },
  {
   "cell_type": "code",
   "execution_count": 4,
   "id": "8edccb6f",
   "metadata": {},
   "outputs": [
    {
     "name": "stdout",
     "output_type": "stream",
     "text": [
      "<class 'tuple'> (1, 1)\n",
      "<class 'tuple'> (2, 4)\n",
      "<class 'tuple'> (3, 27)\n",
      "<class 'tuple'> (4, 256)\n",
      "<class 'tuple'> (5, 3125)\n",
      "<class 'tuple'> (6, 46656)\n",
      "<class 'tuple'> (7, 823543)\n",
      "<class 'tuple'> (8, 16777216)\n",
      "<class 'tuple'> (9, 387420489)\n",
      "<class 'tuple'> (10, 10000000000)\n",
      "<class 'tuple'> (11, 285311670611)\n",
      "<class 'tuple'> (12, 8916100448256)\n",
      "<class 'tuple'> (13, 302875106592253)\n",
      "<class 'tuple'> (14, 11112006825558016)\n",
      "<class 'tuple'> (15, 437893890380859375)\n",
      "<class 'tuple'> (16, 18446744073709551616)\n",
      "<class 'tuple'> (17, 827240261886336764177)\n",
      "<class 'tuple'> (18, 39346408075296537575424)\n",
      "<class 'tuple'> (19, 1978419655660313589123979)\n",
      "<class 'tuple'> (20, 104857600000000000000000000)\n",
      "{1: 1, 2: 4, 3: 27, 4: 256, 5: 3125, 6: 46656, 7: 823543, 8: 16777216, 9: 387420489, 10: 10000000000, 11: 285311670611, 12: 8916100448256, 13: 302875106592253, 14: 11112006825558016, 15: 437893890380859375, 16: 18446744073709551616, 17: 827240261886336764177, 18: 39346408075296537575424, 19: 1978419655660313589123979, 20: 104857600000000000000000000}\n"
     ]
    }
   ],
   "source": [
    "d1={}\n",
    "\n",
    "def inp():\n",
    "    for i in range(1,21):\n",
    "        d1[i]=i**i\n",
    "    for v in d1.items():\n",
    "        print(type(v),v)\n",
    "        \n",
    "inp()\n",
    "print(d1)\n",
    "        \n",
    "        \n",
    "    "
   ]
  },
  {
   "cell_type": "code",
   "execution_count": 20,
   "id": "c338ea17",
   "metadata": {},
   "outputs": [
    {
     "name": "stdout",
     "output_type": "stream",
     "text": [
      "['__class__', '__class_getitem__', '__contains__', '__delattr__', '__delitem__', '__dir__', '__doc__', '__eq__', '__format__', '__ge__', '__getattribute__', '__getitem__', '__gt__', '__hash__', '__init__', '__init_subclass__', '__ior__', '__iter__', '__le__', '__len__', '__lt__', '__ne__', '__new__', '__or__', '__reduce__', '__reduce_ex__', '__repr__', '__reversed__', '__ror__', '__setattr__', '__setitem__', '__sizeof__', '__str__', '__subclasshook__', 'clear', 'copy', 'fromkeys', 'get', 'items', 'keys', 'pop', 'popitem', 'setdefault', 'update', 'values']\n"
     ]
    }
   ],
   "source": [
    "diction\n",
    "print(dir(diction))"
   ]
  },
  {
   "cell_type": "code",
   "execution_count": 21,
   "id": "b041e082",
   "metadata": {},
   "outputs": [
    {
     "data": {
      "text/plain": [
       "dict_values([1, 4, 27, 256, 3125, 46656, 823543, 16777216, 387420489, 10000000000, 285311670611, 8916100448256, 302875106592253, 11112006825558016, 437893890380859375, 18446744073709551616, 827240261886336764177, 39346408075296537575424, 1978419655660313589123979, 104857600000000000000000000])"
      ]
     },
     "execution_count": 21,
     "metadata": {},
     "output_type": "execute_result"
    }
   ],
   "source": [
    "diction.values()\n"
   ]
  },
  {
   "cell_type": "markdown",
   "id": "3a9b149f",
   "metadata": {},
   "source": [
    "Question:\n",
    "Define a function which can generate a dictionary where the keys are numbers between 1 and 20 (both included) and the values are square of keys. The function should just print the keys only.\n",
    "\n",
    "Hints:\n",
    "\n",
    "Use dict[key]=value pattern to put entry into a dictionary.\n",
    "Use ** operator to get power of a number.\n",
    "Use range() for loops.\n",
    "Use keys() to iterate keys in the dictionary. Also we can use item() to get key/value pairs.\n"
   ]
  },
  {
   "cell_type": "code",
   "execution_count": 5,
   "id": "9d57a180",
   "metadata": {},
   "outputs": [
    {
     "name": "stdout",
     "output_type": "stream",
     "text": [
      "1\n",
      "2\n",
      "3\n",
      "4\n",
      "5\n",
      "6\n",
      "7\n",
      "8\n",
      "9\n",
      "10\n",
      "11\n",
      "12\n",
      "13\n",
      "14\n",
      "15\n",
      "16\n",
      "17\n",
      "18\n",
      "19\n",
      "20\n",
      "{1: 1, 2: 4, 3: 27, 4: 256, 5: 3125, 6: 46656, 7: 823543, 8: 16777216, 9: 387420489, 10: 10000000000, 11: 285311670611, 12: 8916100448256, 13: 302875106592253, 14: 11112006825558016, 15: 437893890380859375, 16: 18446744073709551616, 17: 827240261886336764177, 18: 39346408075296537575424, 19: 1978419655660313589123979, 20: 104857600000000000000000000}\n"
     ]
    }
   ],
   "source": [
    "d1={}\n",
    "\n",
    "def inp():\n",
    "    for i in range(1,21):\n",
    "        d1[i]=i**i\n",
    "    for k in d1.keys():\n",
    "        print(k)\n",
    "        \n",
    "inp()\n",
    "print(d1)"
   ]
  },
  {
   "cell_type": "markdown",
   "id": "d03c67f3",
   "metadata": {},
   "source": [
    "Question:\n",
    "Define a function which can generate and print a list where the values are square of numbers between 1 and 20 (both included).\n",
    "\n",
    "Hints:\n",
    "\n",
    "Use ** operator to get power of a number.\n",
    "Use range() for loops.\n",
    "Use list.append() to add values into a list."
   ]
  },
  {
   "cell_type": "code",
   "execution_count": 9,
   "id": "dd4bf8c3",
   "metadata": {},
   "outputs": [
    {
     "data": {
      "text/plain": [
       "([1,\n",
       "  4,\n",
       "  27,\n",
       "  256,\n",
       "  3125,\n",
       "  46656,\n",
       "  823543,\n",
       "  16777216,\n",
       "  387420489,\n",
       "  10000000000,\n",
       "  285311670611,\n",
       "  8916100448256,\n",
       "  302875106592253,\n",
       "  11112006825558016,\n",
       "  437893890380859375,\n",
       "  18446744073709551616,\n",
       "  827240261886336764177,\n",
       "  39346408075296537575424,\n",
       "  1978419655660313589123979,\n",
       "  104857600000000000000000000],\n",
       " list)"
      ]
     },
     "execution_count": 9,
     "metadata": {},
     "output_type": "execute_result"
    }
   ],
   "source": [
    "\n",
    "\n",
    "def inp():\n",
    "    l1=[]\n",
    "    for i in range(1,21):\n",
    "        l1.append(i**i)\n",
    "    return(l1)   \n",
    "s=inp()\n",
    "s,type(s)\n",
    "\n"
   ]
  },
  {
   "cell_type": "markdown",
   "id": "6c8dc3da",
   "metadata": {},
   "source": [
    "Question:\n",
    "Define a function which can generate a list where the values are square of numbers between 1 and 20 (both included). Then the function needs to print the first 5 elements in the list.\n",
    "\n",
    "Hints:\n",
    "\n",
    "Use ** operator to get power of a number.\n",
    "Use range() for loops.\n",
    "Use list.append() to add values into a list.\n",
    "Use [n1:n2] to slice a list"
   ]
  },
  {
   "cell_type": "code",
   "execution_count": 11,
   "id": "17c6831c",
   "metadata": {},
   "outputs": [
    {
     "name": "stdout",
     "output_type": "stream",
     "text": [
      "[1, 4, 27, 256, 3125]\n"
     ]
    }
   ],
   "source": [
    "def inp():\n",
    "    l1=[]\n",
    "    for i in range(1,21):\n",
    "        l1.append(i**i)\n",
    "    print(l1[0:5])\n",
    "       \n",
    "inp()\n"
   ]
  },
  {
   "cell_type": "code",
   "execution_count": 15,
   "id": "4be3c10f",
   "metadata": {},
   "outputs": [
    {
     "data": {
      "text/plain": [
       "''"
      ]
     },
     "execution_count": 15,
     "metadata": {},
     "output_type": "execute_result"
    }
   ],
   "source": [
    "a=\"salai Nivedha\"\n",
    "a[1:1]"
   ]
  },
  {
   "cell_type": "markdown",
   "id": "a2f5b222",
   "metadata": {},
   "source": [
    "Question:\n",
    "Define a function which can generate a list where the values are square of numbers between 1 and 20 (both included). Then the function needs to print the last 5 elements in the list.\n",
    "\n",
    "Hints:\n",
    "\n",
    "Use ** operator to get power of a number.\n",
    "Use range() for loops.\n",
    "Use list.append() to add values into a list.\n",
    "Use [n1:n2] to slice a list"
   ]
  },
  {
   "cell_type": "code",
   "execution_count": 2,
   "id": "b8f995b3",
   "metadata": {},
   "outputs": [
    {
     "name": "stdout",
     "output_type": "stream",
     "text": [
      "[18446744073709551616, 827240261886336764177, 39346408075296537575424, 1978419655660313589123979, 104857600000000000000000000]\n"
     ]
    }
   ],
   "source": [
    "def inp():\n",
    "    l1=[]\n",
    "    for i in range(1,21):\n",
    "        l1.append(i**i)\n",
    "    print(l1[-5:])\n",
    "       \n",
    "inp()\n"
   ]
  },
  {
   "cell_type": "markdown",
   "id": "84670178",
   "metadata": {},
   "source": [
    "Question:\n",
    "Define a function which can generate a list where the values are square of numbers between 1 and 20 (both included). Then the function needs to print all values except the first 5 elements in the list.\n",
    "\n",
    "Hints:\n",
    "\n",
    "Use ** operator to get power of a number.\n",
    "Use range() for loops.\n",
    "Use list.append() to add values into a list.\n",
    "Use [n1:n2] to slice a list\n"
   ]
  },
  {
   "cell_type": "code",
   "execution_count": 4,
   "id": "1e2566d3",
   "metadata": {},
   "outputs": [
    {
     "name": "stdout",
     "output_type": "stream",
     "text": [
      "[46656, 823543, 16777216, 387420489, 10000000000, 285311670611, 8916100448256, 302875106592253, 11112006825558016, 437893890380859375, 18446744073709551616, 827240261886336764177, 39346408075296537575424, 1978419655660313589123979, 104857600000000000000000000]\n"
     ]
    }
   ],
   "source": [
    "def inp():\n",
    "    l1=[]\n",
    "    for i in range(1,21):\n",
    "        l1.append(i**i)\n",
    "    print(l1[5:])\n",
    "       \n",
    "inp()"
   ]
  },
  {
   "cell_type": "markdown",
   "id": "0bdb3890",
   "metadata": {},
   "source": [
    "Question:\n",
    "Define a function which can generate and print a tuple where the value are square of numbers between 1 and 20 (both included). \n",
    "\n",
    "Hints:\n",
    "\n",
    "Use ** operator to get power of a number.\n",
    "Use range() for loops.\n",
    "Use list.append() to add values into a list.\n",
    "Use tuple() to get a tuple from a list.\n"
   ]
  },
  {
   "cell_type": "code",
   "execution_count": 5,
   "id": "0a768bf7",
   "metadata": {},
   "outputs": [
    {
     "name": "stdout",
     "output_type": "stream",
     "text": [
      "(1, 4, 27, 256, 3125, 46656, 823543, 16777216, 387420489, 10000000000, 285311670611, 8916100448256, 302875106592253, 11112006825558016, 437893890380859375, 18446744073709551616, 827240261886336764177, 39346408075296537575424, 1978419655660313589123979, 104857600000000000000000000)\n"
     ]
    }
   ],
   "source": [
    "def inp():\n",
    "    l1=[]\n",
    "    for i in range(1,21):\n",
    "        l1.append(i**i)\n",
    "    print(tuple(l1))\n",
    "       \n",
    "inp()"
   ]
  },
  {
   "cell_type": "markdown",
   "id": "49368235",
   "metadata": {},
   "source": [
    "Question:\n",
    "With a given tuple (1,2,3,4,5,6,7,8,9,10), write a program to print the first half values in one line and the last half values in one line. \n",
    "\n",
    "Hints:\n",
    "\n",
    "Use [n1:n2] notation to get a slice from a tuple.\n"
   ]
  },
  {
   "cell_type": "code",
   "execution_count": 8,
   "id": "53d6c381",
   "metadata": {},
   "outputs": [
    {
     "name": "stdout",
     "output_type": "stream",
     "text": [
      "(1, 2, 3, 4, 5)\n",
      "(6, 7, 8, 9, 10)\n"
     ]
    }
   ],
   "source": [
    "tup=(1,2,3,4,5,6,7,8,9,10)\n",
    "\n",
    "print(tup[0:5])\n",
    "print(tup[5:10])"
   ]
  },
  {
   "cell_type": "markdown",
   "id": "71e366e9",
   "metadata": {},
   "source": [
    "Write a program to generate and print another tuple whose values are even numbers in the given tuple (1,2,3,4,5,6,7,8,9,10). \n",
    "\n",
    "Hints:\n",
    "\n",
    "Use \"for\" to iterate the tuple\n",
    "Use tuple() to generate a tuple from a list."
   ]
  },
  {
   "cell_type": "code",
   "execution_count": 20,
   "id": "bdd53fac",
   "metadata": {},
   "outputs": [
    {
     "name": "stdout",
     "output_type": "stream",
     "text": [
      "(2, 4, 6, 8, 10)\n"
     ]
    }
   ],
   "source": [
    "tup=(1,2,3,4,5,6,7,8,9,10)\n",
    "\n",
    "l1=[]\n",
    "for i in tup:\n",
    "    if i%2==0:\n",
    "        l1.append(i)\n",
    "        \n",
    "tup2=tuple(l1)\n",
    "\n",
    "print(tup2)\n",
    "    "
   ]
  },
  {
   "cell_type": "code",
   "execution_count": 28,
   "id": "1fe4b2db",
   "metadata": {},
   "outputs": [
    {
     "data": {
      "text/plain": [
       "[{2: 1}, {4: 1}, {6: 1}, {8: 1}, {10: 1}]"
      ]
     },
     "execution_count": 28,
     "metadata": {},
     "output_type": "execute_result"
    }
   ],
   "source": [
    "[{t:1} for t in tup if t%2==0]"
   ]
  },
  {
   "cell_type": "code",
   "execution_count": 17,
   "id": "0942ac38",
   "metadata": {},
   "outputs": [
    {
     "name": "stdout",
     "output_type": "stream",
     "text": [
      "[1, 2, 3, 4, 5, 6, 7, 8, 9, 10]\n",
      "(2, 4, 6, 8, 10)\n"
     ]
    }
   ],
   "source": [
    "tup=(1,2,3,4,5,6,7,8,9,10)\n",
    "\n",
    "a=list(tup)\n",
    "l1=[]\n",
    "print(a)\n",
    "\n",
    "for i in a:\n",
    "    if i%2==0:\n",
    "        l1.append(i)\n",
    "\n",
    "        \n",
    "tup2=tuple(l1)\n",
    "\n",
    "print(tup2)\n",
    "    \n",
    "\n",
    "\n"
   ]
  },
  {
   "cell_type": "markdown",
   "id": "43238938",
   "metadata": {},
   "source": [
    "Question:\n",
    "Write a program which accepts a string as input to print \"Yes\" if the string is \"yes\" or \"YES\" or \"Yes\", otherwise print \"No\". \n",
    "\n",
    "Hints:\n",
    "\n",
    "Use if statement to judge condition."
   ]
  },
  {
   "cell_type": "code",
   "execution_count": 33,
   "id": "73784e01",
   "metadata": {},
   "outputs": [
    {
     "name": "stdout",
     "output_type": "stream",
     "text": [
      "kdslfk\n",
      "No\n"
     ]
    }
   ],
   "source": [
    "a=input()\n",
    "\n",
    "if a==\"yes\" or a==\"YES\" or a==\"Yes\":\n",
    "    print(\"Yes\")\n",
    "else:\n",
    "    print('No')\n",
    "    \n",
    "    \n",
    "    "
   ]
  },
  {
   "cell_type": "markdown",
   "id": "93b76a34",
   "metadata": {},
   "source": [
    "Question:\n",
    "Write a program which can filter even numbers in a list by using filter function. The list is: [1,2,3,4,5,6,7,8,9,10].\n",
    "\n",
    "Hints:\n",
    "\n",
    "Use filter() to filter some elements in a list.\n",
    "Use lambda to define anonymous functions"
   ]
  },
  {
   "cell_type": "code",
   "execution_count": 37,
   "id": "0c4e7656",
   "metadata": {},
   "outputs": [
    {
     "name": "stdout",
     "output_type": "stream",
     "text": [
      "[2, 4, 6, 8, 10]\n"
     ]
    }
   ],
   "source": [
    "li = [1,2,3,4,5,6,7,8,9,10]\n",
    "evenNumbers = list(filter(lambda x: x%2==0, li))\n",
    "print(evenNumbers)\n"
   ]
  },
  {
   "cell_type": "code",
   "execution_count": 38,
   "id": "0693a29e",
   "metadata": {},
   "outputs": [
    {
     "name": "stdout",
     "output_type": "stream",
     "text": [
      "[2, 4, 6, 8, 10]\n"
     ]
    }
   ],
   "source": [
    "def geteven(x):\n",
    "    \n",
    "    if x%2==0:\n",
    "        return x\n",
    "    \n",
    "\n",
    "evenNumbers = list(filter(geteven, li))\n",
    "print(evenNumbers)\n",
    "\n"
   ]
  },
  {
   "cell_type": "markdown",
   "id": "d06b033e",
   "metadata": {},
   "source": [
    "Question:\n",
    "Write a program which can map() to make a list whose elements are square of elements in [1,2,3,4,5,6,7,8,9,10].\n",
    "\n",
    "Hints:\n",
    "\n",
    "Use map() to generate a list.\n",
    "Use lambda to define anonymous functions."
   ]
  },
  {
   "cell_type": "code",
   "execution_count": 43,
   "id": "061ccff5",
   "metadata": {},
   "outputs": [
    {
     "name": "stdout",
     "output_type": "stream",
     "text": [
      "[1, 4, 9, 16, 25, 36, 49, 64, 81, 100]\n"
     ]
    }
   ],
   "source": [
    "li = [1,2,3,4,5,6,7,8,9,10]\n",
    "squaredNumbers = list(map(lambda x: x**2, li))\n",
    "print(squaredNumbers)\n"
   ]
  },
  {
   "cell_type": "markdown",
   "id": "16fb3ab3",
   "metadata": {},
   "source": [
    "Question:\n",
    "Write a program which can map() and filter() to make a list whose elements are square of even number in [1,2,3,4,5,6,7,8,9,10].\n",
    "\n",
    "Hints:\n",
    "\n",
    "Use map() to generate a list.\n",
    "Use filter() to filter elements of a list.\n",
    "Use lambda to define anonymous functions."
   ]
  },
  {
   "cell_type": "code",
   "execution_count": 49,
   "id": "f49a95f6",
   "metadata": {},
   "outputs": [
    {
     "name": "stdout",
     "output_type": "stream",
     "text": [
      "[4, 16, 36, 64, 100]\n"
     ]
    }
   ],
   "source": [
    "li = [1,2,3,4,5,6,7,8,9,10]\n",
    "evenNumbers = list(map(lambda x: x**2, filter(lambda x: x%2==0, li)))\n",
    "print(evenNumbers)"
   ]
  },
  {
   "cell_type": "code",
   "execution_count": null,
   "id": "896071fa",
   "metadata": {},
   "outputs": [],
   "source": [
    "1000,2000 /10,50"
   ]
  },
  {
   "cell_type": "code",
   "execution_count": 53,
   "id": "06b44ab1",
   "metadata": {},
   "outputs": [
    {
     "name": "stdout",
     "output_type": "stream",
     "text": [
      "[1000, 1050, 1100, 1150, 1200, 1250, 1300, 1350, 1400, 1450, 1500, 1550, 1600, 1650, 1700, 1750, 1800, 1850, 1900, 1950]\n"
     ]
    }
   ],
   "source": [
    "\n",
    "\n",
    "\n",
    "\n",
    "print(list(filter(lambda x: x%10==0 and x%50==0,range(1000,2000))))"
   ]
  },
  {
   "cell_type": "code",
   "execution_count": 54,
   "id": "07bbf60c",
   "metadata": {},
   "outputs": [
    {
     "data": {
      "text/plain": [
       "[1000,\n",
       " 1050,\n",
       " 1100,\n",
       " 1150,\n",
       " 1200,\n",
       " 1250,\n",
       " 1300,\n",
       " 1350,\n",
       " 1400,\n",
       " 1450,\n",
       " 1500,\n",
       " 1550,\n",
       " 1600,\n",
       " 1650,\n",
       " 1700,\n",
       " 1750,\n",
       " 1800,\n",
       " 1850,\n",
       " 1900,\n",
       " 1950]"
      ]
     },
     "execution_count": 54,
     "metadata": {},
     "output_type": "execute_result"
    }
   ],
   "source": [
    "[{t:1} for t in tup if t%2==0]\n",
    "\n",
    "[t for t in range(1000,2000) if t%10==0 and t%50==0]\n",
    "\n",
    "\n"
   ]
  },
  {
   "cell_type": "markdown",
   "id": "42523374",
   "metadata": {},
   "source": [
    "Write a program which can filter() to make a list whose elements are even number between 1 and 20 (both included).\n",
    "\n",
    "Hints:\n",
    "\n",
    "Use filter() to filter elements of a list.\n",
    "Use lambda to define anonymous functions."
   ]
  },
  {
   "cell_type": "code",
   "execution_count": 57,
   "id": "9a724fbd",
   "metadata": {},
   "outputs": [
    {
     "name": "stdout",
     "output_type": "stream",
     "text": [
      "[2, 4, 6, 8, 10, 12, 14, 16, 18, 20]\n"
     ]
    }
   ],
   "source": [
    "Numbers = list(filter(lambda x: x%2==0, range(1,21)))\n",
    "print(Numbers)"
   ]
  },
  {
   "cell_type": "markdown",
   "id": "d7115e08",
   "metadata": {},
   "source": [
    "Write a program which can map() to make a list whose elements are square of numbers between 1 and 20 (both included).\n",
    "\n",
    "Hints:\n",
    "\n",
    "Use map() to generate a list.\n",
    "Use lambda to define anonymous functions."
   ]
  },
  {
   "cell_type": "code",
   "execution_count": 59,
   "id": "634ab2a2",
   "metadata": {},
   "outputs": [
    {
     "name": "stdout",
     "output_type": "stream",
     "text": [
      "[1, 4, 9, 16, 25, 36, 49, 64, 81, 100, 121, 144, 169, 196, 225, 256, 289, 324, 361, 400]\n"
     ]
    }
   ],
   "source": [
    "squaredNumbers = list(map(lambda x: x**2, range(1,21)))\n",
    "print(squaredNumbers)"
   ]
  },
  {
   "cell_type": "code",
   "execution_count": null,
   "id": "effd0141",
   "metadata": {},
   "outputs": [
    {
     "name": "stdout",
     "output_type": "stream",
     "text": [
      "Enter your choice:1\n",
      "You Chooses : rock\n",
      "But Machine Chooses : paper\n",
      "Paper folds rock. you lose \n",
      "Enter your choice:2\n",
      "You Chooses : paper\n",
      "But Machine Chooses : paper\n",
      "Draw\n",
      "Enter your choice:3\n",
      "You Chooses : scissor\n",
      "But Machine Chooses : rock\n",
      "rock smashes scissor.. you lose \n"
     ]
    }
   ],
   "source": [
    "l1=[\"rock\",\"paper\",\"scissor\"]\n",
    "\n",
    "import random\n",
    "\n",
    "while True:\n",
    "    uchoice=int(input(\"Enter your choice:\"))\n",
    "    mchoice=random.choice(l1)\n",
    "    if not uchoice:\n",
    "        break\n",
    "        \n",
    "    uchoice=l1[uchoice-1]\n",
    "#     if uchoice==1:\n",
    "#         uchoice=l1[0]\n",
    "#     if uchoice==2:\n",
    "#         uchoice=l1[1]\n",
    "#     if uchoice==3:\n",
    "#         uchoice=l1[2]\n",
    "    print('You Chooses :',uchoice)\n",
    "    print('But Machine Chooses :',mchoice)\n",
    "\n",
    "    if mchoice==uchoice:\n",
    "        print(\"Draw\")\n",
    "    if mchoice=='rock' and uchoice==\"paper\":\n",
    "        print(\"Paper folds rock. you win \")\n",
    "    elif uchoice=='rock' and mchoice==\"paper\": \n",
    "        print(\"Paper folds rock. you lose \")\n",
    "    \n",
    "    if mchoice=='paper' and uchoice==\"scissor\":\n",
    "        print(\"scissor cuts paper. you win \")\n",
    "    elif uchoice=='paper' and mchoice==\"scissor\": \n",
    "        print(\"scissor cuts paper. you lose \")    \n",
    "\n",
    "    if mchoice=='rock' and uchoice==\"scissor\":\n",
    "        print(\"rock smashes scissor.. you lose \")\n",
    "    elif uchoice=='rock' and mchoice==\"scissor\": \n",
    "        print(\"rock smashes scissor.. you win \")  \n",
    "   \n",
    "\n",
    "    "
   ]
  },
  {
   "cell_type": "code",
   "execution_count": 104,
   "id": "864e1d51",
   "metadata": {},
   "outputs": [
    {
     "data": {
      "text/plain": [
       "['rock', 'paper', 'scissor']"
      ]
     },
     "execution_count": 104,
     "metadata": {},
     "output_type": "execute_result"
    }
   ],
   "source": [
    "l1\n"
   ]
  }
 ],
 "metadata": {
  "kernelspec": {
   "display_name": "Python 3 (ipykernel)",
   "language": "python",
   "name": "python3"
  },
  "language_info": {
   "codemirror_mode": {
    "name": "ipython",
    "version": 3
   },
   "file_extension": ".py",
   "mimetype": "text/x-python",
   "name": "python",
   "nbconvert_exporter": "python",
   "pygments_lexer": "ipython3",
   "version": "3.9.13"
  }
 },
 "nbformat": 4,
 "nbformat_minor": 5
}
