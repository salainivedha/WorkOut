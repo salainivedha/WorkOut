{
 "cells": [
  {
   "cell_type": "code",
   "execution_count": null,
   "id": "db70c0aa",
   "metadata": {},
   "outputs": [],
   "source": []
  },
  {
   "cell_type": "code",
   "execution_count": 19,
   "id": "4c192ddd",
   "metadata": {},
   "outputs": [
    {
     "name": "stdout",
     "output_type": "stream",
     "text": [
      " i am from Init\n",
      " i am from Init\n",
      " i am from Init\n"
     ]
    },
    {
     "data": {
      "text/plain": [
       "[<__main__.QuestionBank at 0x7f18c3adbb20>,\n",
       " <__main__.QuestionBank at 0x7f18c3adb220>,\n",
       " <__main__.QuestionBank at 0x7f18c3adbcd0>]"
      ]
     },
     "execution_count": 19,
     "metadata": {},
     "output_type": "execute_result"
    }
   ],
   "source": [
    "class QuestionBank:\n",
    "    def __init__(self,question,answer):\n",
    "        print(' i am from Init')\n",
    "        self.prompt=question\n",
    "        self.answer=answer\n",
    "\n",
    "l=[]\n",
    "l.append(QuestionBank('Choose your Country?\\n a.America\\n b.Singapore\\n c.India','a'))\n",
    "l.append(QuestionBank('Choose your Country?\\n a.America\\n b.Singapore\\n c.India','b'))\n",
    "l.append(QuestionBank('Choose your Country?\\n a.America\\n b.Singapore\\n c.India','c'))\n",
    "l"
   ]
  },
  {
   "cell_type": "code",
   "execution_count": 25,
   "id": "4b505138",
   "metadata": {},
   "outputs": [
    {
     "name": "stdout",
     "output_type": "stream",
     "text": [
      "Choose your Country?\n",
      " a.America\n",
      " b.Singapore\n",
      " c.Indiab\n",
      "Failure\n",
      "Choose your Country?\n",
      " a.America\n",
      " b.Singapore\n",
      " c.Indiab\n",
      "Success\n",
      "Choose your Country?\n",
      " a.America\n",
      " b.Singapore\n",
      " c.Indiab\n",
      "Failure\n"
     ]
    }
   ],
   "source": [
    "for i in l:\n",
    "    answer=input(i.prompt)\n",
    "    if answer==i.answer:\n",
    "        print('Success')\n",
    "    else:\n",
    "        print('Failure')"
   ]
  },
  {
   "cell_type": "code",
   "execution_count": 148,
   "id": "8ef90a00",
   "metadata": {},
   "outputs": [],
   "source": [
    "import datetime\n",
    "class Humen:\n",
    "    def __init__(self,name,dob,sex,hight,weight):\n",
    "        self.name=name\n",
    "        self.dob=datetime.datetime.strptime(dob,'%Y-%m-%d')\n",
    "        self.sex=sex\n",
    "        self.hight=hight\n",
    "        self.weight=weight\n",
    "        self.points=10\n",
    "        self.spouse=None\n",
    "        self.married=None\n",
    "    def age(self):\n",
    "        age=round((datetime.datetime.now()-self.dob).days/365.25)\n",
    "        return age\n",
    "    def __repr__(self):\n",
    "        return self.__dict__.__str__()\n",
    "    def marry(self,new):\n",
    "        self.points=self.points*new.points\n",
    "        new.points=self.points\n",
    "        self.married=True\n",
    "        new.married=True\n",
    "        self.spouse=new.name\n",
    "        new.spouse=self.name\n",
    "        return (a,b)"
   ]
  },
  {
   "cell_type": "code",
   "execution_count": 149,
   "id": "dfac30b0",
   "metadata": {},
   "outputs": [
    {
     "data": {
      "text/plain": [
       "({'name': 'Arun', 'dob': datetime.datetime(1986, 7, 28, 0, 0), 'sex': 'M', 'hight': 7, 'weight': 80, 'points': 10, 'spouse': None, 'married': None},\n",
       " {'name': 'Nivedha', 'dob': datetime.datetime(1991, 9, 14, 0, 0), 'sex': 'F', 'hight': 7, 'weight': 80, 'points': 10, 'spouse': None, 'married': None})"
      ]
     },
     "execution_count": 149,
     "metadata": {},
     "output_type": "execute_result"
    }
   ],
   "source": [
    "a=Humen('Arun','1986-07-28','M',7,80)\n",
    "b=Humen('Nivedha','1991-09-14','F',7,80)\n",
    "a,b"
   ]
  },
  {
   "cell_type": "code",
   "execution_count": 147,
   "id": "b54f8e60",
   "metadata": {},
   "outputs": [
    {
     "data": {
      "text/plain": [
       "(10, 10)"
      ]
     },
     "execution_count": 147,
     "metadata": {},
     "output_type": "execute_result"
    }
   ],
   "source": [
    "a.points,b.points"
   ]
  },
  {
   "cell_type": "code",
   "execution_count": 150,
   "id": "1e206fb9",
   "metadata": {},
   "outputs": [
    {
     "data": {
      "text/plain": [
       "({'name': 'Arun', 'dob': datetime.datetime(1986, 7, 28, 0, 0), 'sex': 'M', 'hight': 7, 'weight': 80, 'points': 100, 'spouse': 'Nivedha', 'married': True},\n",
       " {'name': 'Nivedha', 'dob': datetime.datetime(1991, 9, 14, 0, 0), 'sex': 'F', 'hight': 7, 'weight': 80, 'points': 100, 'spouse': 'Arun', 'married': True})"
      ]
     },
     "execution_count": 150,
     "metadata": {},
     "output_type": "execute_result"
    }
   ],
   "source": [
    "a.marry(b)"
   ]
  }
 ],
 "metadata": {
  "kernelspec": {
   "display_name": "Python 3 (ipykernel)",
   "language": "python",
   "name": "python3"
  },
  "language_info": {
   "codemirror_mode": {
    "name": "ipython",
    "version": 3
   },
   "file_extension": ".py",
   "mimetype": "text/x-python",
   "name": "python",
   "nbconvert_exporter": "python",
   "pygments_lexer": "ipython3",
   "version": "3.9.13"
  }
 },
 "nbformat": 4,
 "nbformat_minor": 5
}
